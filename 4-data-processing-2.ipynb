{
 "cells": [
  {
   "cell_type": "markdown",
   "metadata": {},
   "source": [
    "<div width=50% style=\"display: block; margin: auto\">\n",
    "    <img src=\"figures/ucl-logo.svg\" width=100%>\n",
    "</div>\n",
    "\n",
    "### [UCL-ELEC0136 Data Acquisition and Processing Systems 2024]()\n",
    "University College London\n",
    "# Lab 4: Data Processing #2 \n",
    "\n"
   ]
  },
  {
   "cell_type": "markdown",
   "metadata": {},
   "source": [
    "\n",
    "\n",
    "### Objectives\n",
    "The data processing 2 lab focuses on Exploratory Data Analysis (EDA) techniques and addressing data imbalance through fairness postprocessing methods. In particular, we will\n",
    "* Learn how to plot and interpret insights from plots\n",
    "* Briefly cover the steps of (1) data transformation, (2) generating data splits, (3) selecting baseline models and building a classifier\n",
    "* Learn how to produce and evaluate the models for performance and fairness\n",
    "* Learn how to leverage fairness metrics for threshold optimization.\n",
    "\n",
    "\n",
    "### Outline\n",
    "0. Setup\n",
    "1. Data Processing\n",
    "2. Train Baselines and a Classifier (Offline)\n",
    "3. Evaluate and Audit for Fairness the Baselines and the Classifier\n",
    "4. Postprocessing Techniques for Fairness\n",
    "\n",
    "<hr width=70% style=\"float: left\">"
   ]
  },
  {
   "cell_type": "markdown",
   "metadata": {},
   "source": [
    "### 0. Setup"
   ]
  },
  {
   "cell_type": "markdown",
   "metadata": {},
   "source": [
    "#### 0.1 Prerequisites\n",
    "This lab uses the following packages:\n",
    "\n",
    "* `folktables`: datasets derived from the American Community Survey (ACS)  Public Use Microdata Sample (PUMS) files which are managed by the US Census Bureau <!-- - more info [here](https://github.com/socialfoundations/folktables)) -->\n",
    "* `scikit-learn`: toolkit for predictive data analysis\n",
    "* `pandas`: data analysis and manipulation toolkit\n",
    "* `matplotlib`: statistical visualization library\n",
    "* `seaborn`: statistical visualization library\n",
    "* `fairlearn`: toolkit for assessing and mitigating an ML system's biases"
   ]
  },
  {
   "cell_type": "markdown",
   "metadata": {},
   "source": [
    "<div class=\"alert alert-block alert-danger\">\n",
    "<h4>👨🏾‍💻👨🏿‍💻 TASK 1: Install Prerequisites</h4>\n",
    "\n",
    "Use the `requirements.txt` file for installing the libraries discussed above.\n",
    "</div>"
   ]
  },
  {
   "cell_type": "markdown",
   "metadata": {},
   "source": [
    "Let's import the following libraries"
   ]
  },
  {
   "cell_type": "code",
   "execution_count": 1,
   "metadata": {},
   "outputs": [],
   "source": [
    "# Libraries for data analysis and manipulation\n",
    "import numpy as np\n",
    "import pandas as pd\n",
    "\n",
    "# Libraries for visualizations\n",
    "import matplotlib.pyplot as plt\n",
    "import seaborn as sns"
   ]
  },
  {
   "cell_type": "markdown",
   "metadata": {},
   "source": [
    "#### 0.2 Data Acquisition\n",
    "\n",
    "`folktables` offers predefined predictive tasks and the ability to specify the ML problem you want to address. While we won't delve into the thechnical implementation here, the curious minds can explore the details in the `utils/dataset.py` file.\n",
    "\n",
    "In this lab, we specifically focus on **employment status classification** based on 15 input features such as gender, race, marital status, and age."
   ]
  },
  {
   "cell_type": "code",
   "execution_count": 2,
   "metadata": {},
   "outputs": [],
   "source": [
    "from utils.dataset import ACSDataset\n",
    "\n",
    "# Selected target - Employment status record\n",
    "target_task='ESR'\n",
    "\n",
    "# Sensitive group\n",
    "sensitive_group= 'RAC1P'\n",
    "\n",
    "# Pick a state to download data from available_states list.\n",
    "state_list=['CA']\n",
    "\n",
    "# Pick data duration. Available options: [\"1-Year\", \"5-Year\"].\n",
    "duration='1-Year'\n",
    "\n",
    "# Pick data year. Available options: [\"2015\", \"2016\", \"2017\", \"2018\"].\n",
    "year='2018'\n",
    "\n",
    "# Pick data granularity. Available options: [\"person\", \"household\"].\n",
    "granularity= 'person'\n",
    "\n",
    "ACSProblem=ACSDataset(target_task,sensitive_group,state_list,duration,year,granularity)\n"
   ]
  },
  {
   "cell_type": "code",
   "execution_count": 3,
   "metadata": {},
   "outputs": [],
   "source": [
    "dataset_df=ACSProblem.acquire_dataset()"
   ]
  },
  {
   "cell_type": "markdown",
   "metadata": {},
   "source": [
    "### 1. Data Processing  "
   ]
  },
  {
   "cell_type": "markdown",
   "metadata": {},
   "source": [
    "#### 1.1 (Initial) Data Exploration & Data Cleaning\n",
    "Next we will investigate, analyze and summarize the characteristics of the acquired dataset. This is valuable for\n",
    "\n",
    "1. spotting errors within the dataset;\n",
    "2. grasping data patterns and relationships across variables; and\n",
    "3. identifying outliers or irregular behaviors,\n",
    "\n",
    "and dealing with these issues. \n",
    "\n",
    "First, let's take an initial look at our data:"
   ]
  },
  {
   "cell_type": "code",
   "execution_count": 4,
   "metadata": {},
   "outputs": [
    {
     "name": "stdout",
     "output_type": "stream",
     "text": [
      "Dataset shape (rows,columns) is  (195665, 17)\n",
      "\n",
      "\n",
      "Dataset Overview:\n"
     ]
    },
    {
     "data": {
      "text/html": [
       "<div>\n",
       "<style scoped>\n",
       "    .dataframe tbody tr th:only-of-type {\n",
       "        vertical-align: middle;\n",
       "    }\n",
       "\n",
       "    .dataframe tbody tr th {\n",
       "        vertical-align: top;\n",
       "    }\n",
       "\n",
       "    .dataframe thead th {\n",
       "        text-align: right;\n",
       "    }\n",
       "</style>\n",
       "<table border=\"1\" class=\"dataframe\">\n",
       "  <thead>\n",
       "    <tr style=\"text-align: right;\">\n",
       "      <th></th>\n",
       "      <th>AGEP</th>\n",
       "      <th>SCHL</th>\n",
       "      <th>MAR</th>\n",
       "      <th>RELP</th>\n",
       "      <th>DIS</th>\n",
       "      <th>ESP</th>\n",
       "      <th>CIT</th>\n",
       "      <th>MIG</th>\n",
       "      <th>MIL</th>\n",
       "      <th>ANC</th>\n",
       "      <th>NATIVITY</th>\n",
       "      <th>DEAR</th>\n",
       "      <th>DEYE</th>\n",
       "      <th>DREM</th>\n",
       "      <th>SEX</th>\n",
       "      <th>RAC1P</th>\n",
       "      <th>ESR</th>\n",
       "    </tr>\n",
       "  </thead>\n",
       "  <tbody>\n",
       "    <tr>\n",
       "      <th>0</th>\n",
       "      <td>30.0</td>\n",
       "      <td>14.0</td>\n",
       "      <td>1.0</td>\n",
       "      <td>16.0</td>\n",
       "      <td>2.0</td>\n",
       "      <td>0.0</td>\n",
       "      <td>1.0</td>\n",
       "      <td>3.0</td>\n",
       "      <td>4.0</td>\n",
       "      <td>1.0</td>\n",
       "      <td>1.0</td>\n",
       "      <td>2.0</td>\n",
       "      <td>2.0</td>\n",
       "      <td>2.0</td>\n",
       "      <td>1.0</td>\n",
       "      <td>8.0</td>\n",
       "      <td>0.0</td>\n",
       "    </tr>\n",
       "    <tr>\n",
       "      <th>1</th>\n",
       "      <td>21.0</td>\n",
       "      <td>16.0</td>\n",
       "      <td>5.0</td>\n",
       "      <td>17.0</td>\n",
       "      <td>2.0</td>\n",
       "      <td>0.0</td>\n",
       "      <td>1.0</td>\n",
       "      <td>1.0</td>\n",
       "      <td>4.0</td>\n",
       "      <td>2.0</td>\n",
       "      <td>1.0</td>\n",
       "      <td>2.0</td>\n",
       "      <td>2.0</td>\n",
       "      <td>2.0</td>\n",
       "      <td>1.0</td>\n",
       "      <td>1.0</td>\n",
       "      <td>1.0</td>\n",
       "    </tr>\n",
       "    <tr>\n",
       "      <th>2</th>\n",
       "      <td>65.0</td>\n",
       "      <td>22.0</td>\n",
       "      <td>5.0</td>\n",
       "      <td>17.0</td>\n",
       "      <td>2.0</td>\n",
       "      <td>0.0</td>\n",
       "      <td>1.0</td>\n",
       "      <td>1.0</td>\n",
       "      <td>4.0</td>\n",
       "      <td>1.0</td>\n",
       "      <td>1.0</td>\n",
       "      <td>2.0</td>\n",
       "      <td>2.0</td>\n",
       "      <td>2.0</td>\n",
       "      <td>1.0</td>\n",
       "      <td>1.0</td>\n",
       "      <td>1.0</td>\n",
       "    </tr>\n",
       "    <tr>\n",
       "      <th>3</th>\n",
       "      <td>33.0</td>\n",
       "      <td>14.0</td>\n",
       "      <td>3.0</td>\n",
       "      <td>16.0</td>\n",
       "      <td>2.0</td>\n",
       "      <td>0.0</td>\n",
       "      <td>1.0</td>\n",
       "      <td>1.0</td>\n",
       "      <td>4.0</td>\n",
       "      <td>1.0</td>\n",
       "      <td>1.0</td>\n",
       "      <td>2.0</td>\n",
       "      <td>2.0</td>\n",
       "      <td>2.0</td>\n",
       "      <td>1.0</td>\n",
       "      <td>1.0</td>\n",
       "      <td>0.0</td>\n",
       "    </tr>\n",
       "    <tr>\n",
       "      <th>4</th>\n",
       "      <td>18.0</td>\n",
       "      <td>19.0</td>\n",
       "      <td>5.0</td>\n",
       "      <td>17.0</td>\n",
       "      <td>1.0</td>\n",
       "      <td>0.0</td>\n",
       "      <td>1.0</td>\n",
       "      <td>1.0</td>\n",
       "      <td>4.0</td>\n",
       "      <td>2.0</td>\n",
       "      <td>1.0</td>\n",
       "      <td>2.0</td>\n",
       "      <td>2.0</td>\n",
       "      <td>1.0</td>\n",
       "      <td>2.0</td>\n",
       "      <td>1.0</td>\n",
       "      <td>1.0</td>\n",
       "    </tr>\n",
       "    <tr>\n",
       "      <th>5</th>\n",
       "      <td>17.0</td>\n",
       "      <td>15.0</td>\n",
       "      <td>5.0</td>\n",
       "      <td>16.0</td>\n",
       "      <td>2.0</td>\n",
       "      <td>0.0</td>\n",
       "      <td>1.0</td>\n",
       "      <td>3.0</td>\n",
       "      <td>4.0</td>\n",
       "      <td>2.0</td>\n",
       "      <td>1.0</td>\n",
       "      <td>2.0</td>\n",
       "      <td>2.0</td>\n",
       "      <td>2.0</td>\n",
       "      <td>2.0</td>\n",
       "      <td>9.0</td>\n",
       "      <td>0.0</td>\n",
       "    </tr>\n",
       "    <tr>\n",
       "      <th>6</th>\n",
       "      <td>27.0</td>\n",
       "      <td>21.0</td>\n",
       "      <td>5.0</td>\n",
       "      <td>17.0</td>\n",
       "      <td>2.0</td>\n",
       "      <td>0.0</td>\n",
       "      <td>1.0</td>\n",
       "      <td>1.0</td>\n",
       "      <td>1.0</td>\n",
       "      <td>3.0</td>\n",
       "      <td>1.0</td>\n",
       "      <td>2.0</td>\n",
       "      <td>2.0</td>\n",
       "      <td>2.0</td>\n",
       "      <td>1.0</td>\n",
       "      <td>1.0</td>\n",
       "      <td>0.0</td>\n",
       "    </tr>\n",
       "    <tr>\n",
       "      <th>7</th>\n",
       "      <td>19.0</td>\n",
       "      <td>18.0</td>\n",
       "      <td>5.0</td>\n",
       "      <td>17.0</td>\n",
       "      <td>2.0</td>\n",
       "      <td>0.0</td>\n",
       "      <td>1.0</td>\n",
       "      <td>3.0</td>\n",
       "      <td>4.0</td>\n",
       "      <td>4.0</td>\n",
       "      <td>1.0</td>\n",
       "      <td>2.0</td>\n",
       "      <td>2.0</td>\n",
       "      <td>2.0</td>\n",
       "      <td>2.0</td>\n",
       "      <td>2.0</td>\n",
       "      <td>0.0</td>\n",
       "    </tr>\n",
       "    <tr>\n",
       "      <th>8</th>\n",
       "      <td>27.0</td>\n",
       "      <td>19.0</td>\n",
       "      <td>5.0</td>\n",
       "      <td>17.0</td>\n",
       "      <td>2.0</td>\n",
       "      <td>0.0</td>\n",
       "      <td>1.0</td>\n",
       "      <td>1.0</td>\n",
       "      <td>4.0</td>\n",
       "      <td>2.0</td>\n",
       "      <td>1.0</td>\n",
       "      <td>2.0</td>\n",
       "      <td>2.0</td>\n",
       "      <td>2.0</td>\n",
       "      <td>1.0</td>\n",
       "      <td>1.0</td>\n",
       "      <td>1.0</td>\n",
       "    </tr>\n",
       "    <tr>\n",
       "      <th>9</th>\n",
       "      <td>19.0</td>\n",
       "      <td>16.0</td>\n",
       "      <td>5.0</td>\n",
       "      <td>17.0</td>\n",
       "      <td>2.0</td>\n",
       "      <td>0.0</td>\n",
       "      <td>1.0</td>\n",
       "      <td>3.0</td>\n",
       "      <td>1.0</td>\n",
       "      <td>1.0</td>\n",
       "      <td>1.0</td>\n",
       "      <td>2.0</td>\n",
       "      <td>2.0</td>\n",
       "      <td>2.0</td>\n",
       "      <td>1.0</td>\n",
       "      <td>1.0</td>\n",
       "      <td>0.0</td>\n",
       "    </tr>\n",
       "  </tbody>\n",
       "</table>\n",
       "</div>"
      ],
      "text/plain": [
       "   AGEP  SCHL  MAR  RELP  DIS  ESP  CIT  MIG  MIL  ANC  NATIVITY  DEAR  DEYE  \\\n",
       "0  30.0  14.0  1.0  16.0  2.0  0.0  1.0  3.0  4.0  1.0       1.0   2.0   2.0   \n",
       "1  21.0  16.0  5.0  17.0  2.0  0.0  1.0  1.0  4.0  2.0       1.0   2.0   2.0   \n",
       "2  65.0  22.0  5.0  17.0  2.0  0.0  1.0  1.0  4.0  1.0       1.0   2.0   2.0   \n",
       "3  33.0  14.0  3.0  16.0  2.0  0.0  1.0  1.0  4.0  1.0       1.0   2.0   2.0   \n",
       "4  18.0  19.0  5.0  17.0  1.0  0.0  1.0  1.0  4.0  2.0       1.0   2.0   2.0   \n",
       "5  17.0  15.0  5.0  16.0  2.0  0.0  1.0  3.0  4.0  2.0       1.0   2.0   2.0   \n",
       "6  27.0  21.0  5.0  17.0  2.0  0.0  1.0  1.0  1.0  3.0       1.0   2.0   2.0   \n",
       "7  19.0  18.0  5.0  17.0  2.0  0.0  1.0  3.0  4.0  4.0       1.0   2.0   2.0   \n",
       "8  27.0  19.0  5.0  17.0  2.0  0.0  1.0  1.0  4.0  2.0       1.0   2.0   2.0   \n",
       "9  19.0  16.0  5.0  17.0  2.0  0.0  1.0  3.0  1.0  1.0       1.0   2.0   2.0   \n",
       "\n",
       "   DREM  SEX  RAC1P  ESR  \n",
       "0   2.0  1.0    8.0  0.0  \n",
       "1   2.0  1.0    1.0  1.0  \n",
       "2   2.0  1.0    1.0  1.0  \n",
       "3   2.0  1.0    1.0  0.0  \n",
       "4   1.0  2.0    1.0  1.0  \n",
       "5   2.0  2.0    9.0  0.0  \n",
       "6   2.0  1.0    1.0  0.0  \n",
       "7   2.0  2.0    2.0  0.0  \n",
       "8   2.0  1.0    1.0  1.0  \n",
       "9   2.0  1.0    1.0  0.0  "
      ]
     },
     "execution_count": 4,
     "metadata": {},
     "output_type": "execute_result"
    }
   ],
   "source": [
    "# Get the dataset shape (rows,columns)\n",
    "print('Dataset shape (rows,columns) is ', dataset_df.shape)\n",
    "print('\\n')\n",
    "\n",
    "# Get an overview of the dataset by printing the first 10 rows\n",
    "print('Dataset Overview:')\n",
    "dataset_df.head(10)"
   ]
  },
  {
   "cell_type": "code",
   "execution_count": 5,
   "metadata": {},
   "outputs": [
    {
     "name": "stdout",
     "output_type": "stream",
     "text": [
      "Information about the dataset:\n",
      "<class 'pandas.core.frame.DataFrame'>\n",
      "RangeIndex: 195665 entries, 0 to 195664\n",
      "Data columns (total 17 columns):\n",
      " #   Column    Non-Null Count   Dtype  \n",
      "---  ------    --------------   -----  \n",
      " 0   AGEP      195665 non-null  float64\n",
      " 1   SCHL      195665 non-null  float64\n",
      " 2   MAR       195665 non-null  float64\n",
      " 3   RELP      195665 non-null  float64\n",
      " 4   DIS       195665 non-null  float64\n",
      " 5   ESP       195665 non-null  float64\n",
      " 6   CIT       195665 non-null  float64\n",
      " 7   MIG       195665 non-null  float64\n",
      " 8   MIL       195665 non-null  float64\n",
      " 9   ANC       195665 non-null  float64\n",
      " 10  NATIVITY  195665 non-null  float64\n",
      " 11  DEAR      195665 non-null  float64\n",
      " 12  DEYE      195665 non-null  float64\n",
      " 13  DREM      195665 non-null  float64\n",
      " 14  SEX       195665 non-null  float64\n",
      " 15  RAC1P     195665 non-null  float64\n",
      " 16  ESR       195665 non-null  float64\n",
      "dtypes: float64(17)\n",
      "memory usage: 25.4 MB\n"
     ]
    }
   ],
   "source": [
    "# Print the index dtype and columns, non-null values and memory usage\n",
    "print('Information about the dataset:')\n",
    "dataset_df.info()"
   ]
  },
  {
   "cell_type": "markdown",
   "metadata": {},
   "source": [
    "<div class=\"alert alert-block alert-danger\">\n",
    "<h4>👩🏼‍💻👩🏽‍💻 Task 1.1: Deal with erroneous data types</h4>\n",
    "\n",
    "Erroneous data types occur when the format or the categorization of the data type does not align with the intended or expected type for a given attribute or variable. \n",
    "The basic overview of the data above shows that every column is a numerical.\n",
    "\n",
    "Fix this issue as follows:\n",
    "\n",
    "* Create a function `cast_features(categorical_features: list[str], numerical_features: list[str], data:pd.DataFrame)` that fixes the erroneous datatypes of the dataframe\n",
    "* The function should return a pandas dataframe containing the updated data\n",
    "  \n",
    "</div>"
   ]
  },
  {
   "cell_type": "markdown",
   "metadata": {},
   "source": [
    "<div class=\"alert alert-heading alert-danger\" style=\"background-color: white; border: 2px solid; border-radius: 5px; color: #000; border-color:#AAA; padding: 10px\">\n",
    "<b>💎 Tips</b> \n",
    "\n",
    "* The target should not be part of the input features\n",
    "* Use `ACSProblem.categorical_features` and `ACSProblem.numerical_features` to find the categorical and numerical features of this dataset.\n",
    "</div>\n",
    "\n",
    "\n"
   ]
  },
  {
   "cell_type": "code",
   "execution_count": 6,
   "metadata": {},
   "outputs": [
    {
     "name": "stdout",
     "output_type": "stream",
     "text": [
      "categorical features:  ['SCHL', 'MAR', 'RELP', 'DIS', 'ESP', 'CIT', 'MIG', 'MIL', 'ANC', 'NATIVITY', 'DEAR', 'DEYE', 'DREM', 'SEX', 'RAC1P']\n",
      "numerical features:  ['AGEP']\n"
     ]
    }
   ],
   "source": [
    "print(\"categorical features: \", ACSProblem.categorical_features)\n",
    "print(\"numerical features: \", ACSProblem.numerical_features)"
   ]
  },
  {
   "cell_type": "code",
   "execution_count": 7,
   "metadata": {},
   "outputs": [],
   "source": [
    "def cast_features(categorical_features: list[str], numerical_features: list[str], data:pd.DataFrame) -> pd.DataFrame:\n",
    "    \"\"\"\n",
    "    Cast features to the correct data type.\n",
    "\n",
    "    Args:\n",
    "        categorical_features (List[str]): list of categorical feature names\n",
    "        numerical_features (List[str]): list of numerical feature names\n",
    "        data (pd.DataFrame): raw dataframe with unprocessed data\n",
    "    Returns:\n",
    "        (pd.DataFrame): a dataframe with the casted features data\n",
    "    \"\"\"\n",
    "    # Add your code here:\n",
    "    # # remove target\n",
    "    # data = data.drop(data.columns[-1], axis=1)\n",
    "    # correct features\n",
    "    for cf in categorical_features:\n",
    "        data[cf]=data[cf].astype('category')\n",
    "\n",
    "    return data"
   ]
  },
  {
   "cell_type": "code",
   "execution_count": 8,
   "metadata": {},
   "outputs": [
    {
     "data": {
      "text/html": [
       "<div>\n",
       "<style scoped>\n",
       "    .dataframe tbody tr th:only-of-type {\n",
       "        vertical-align: middle;\n",
       "    }\n",
       "\n",
       "    .dataframe tbody tr th {\n",
       "        vertical-align: top;\n",
       "    }\n",
       "\n",
       "    .dataframe thead th {\n",
       "        text-align: right;\n",
       "    }\n",
       "</style>\n",
       "<table border=\"1\" class=\"dataframe\">\n",
       "  <thead>\n",
       "    <tr style=\"text-align: right;\">\n",
       "      <th></th>\n",
       "      <th>AGEP</th>\n",
       "      <th>SCHL</th>\n",
       "      <th>MAR</th>\n",
       "      <th>RELP</th>\n",
       "      <th>DIS</th>\n",
       "      <th>ESP</th>\n",
       "      <th>CIT</th>\n",
       "      <th>MIG</th>\n",
       "      <th>MIL</th>\n",
       "      <th>ANC</th>\n",
       "      <th>NATIVITY</th>\n",
       "      <th>DEAR</th>\n",
       "      <th>DEYE</th>\n",
       "      <th>DREM</th>\n",
       "      <th>SEX</th>\n",
       "      <th>RAC1P</th>\n",
       "      <th>ESR</th>\n",
       "    </tr>\n",
       "  </thead>\n",
       "  <tbody>\n",
       "    <tr>\n",
       "      <th>0</th>\n",
       "      <td>30.0</td>\n",
       "      <td>14.0</td>\n",
       "      <td>1.0</td>\n",
       "      <td>16.0</td>\n",
       "      <td>2.0</td>\n",
       "      <td>0.0</td>\n",
       "      <td>1.0</td>\n",
       "      <td>3.0</td>\n",
       "      <td>4.0</td>\n",
       "      <td>1.0</td>\n",
       "      <td>1.0</td>\n",
       "      <td>2.0</td>\n",
       "      <td>2.0</td>\n",
       "      <td>2.0</td>\n",
       "      <td>1.0</td>\n",
       "      <td>8.0</td>\n",
       "      <td>0.0</td>\n",
       "    </tr>\n",
       "    <tr>\n",
       "      <th>1</th>\n",
       "      <td>21.0</td>\n",
       "      <td>16.0</td>\n",
       "      <td>5.0</td>\n",
       "      <td>17.0</td>\n",
       "      <td>2.0</td>\n",
       "      <td>0.0</td>\n",
       "      <td>1.0</td>\n",
       "      <td>1.0</td>\n",
       "      <td>4.0</td>\n",
       "      <td>2.0</td>\n",
       "      <td>1.0</td>\n",
       "      <td>2.0</td>\n",
       "      <td>2.0</td>\n",
       "      <td>2.0</td>\n",
       "      <td>1.0</td>\n",
       "      <td>1.0</td>\n",
       "      <td>1.0</td>\n",
       "    </tr>\n",
       "    <tr>\n",
       "      <th>2</th>\n",
       "      <td>65.0</td>\n",
       "      <td>22.0</td>\n",
       "      <td>5.0</td>\n",
       "      <td>17.0</td>\n",
       "      <td>2.0</td>\n",
       "      <td>0.0</td>\n",
       "      <td>1.0</td>\n",
       "      <td>1.0</td>\n",
       "      <td>4.0</td>\n",
       "      <td>1.0</td>\n",
       "      <td>1.0</td>\n",
       "      <td>2.0</td>\n",
       "      <td>2.0</td>\n",
       "      <td>2.0</td>\n",
       "      <td>1.0</td>\n",
       "      <td>1.0</td>\n",
       "      <td>1.0</td>\n",
       "    </tr>\n",
       "    <tr>\n",
       "      <th>3</th>\n",
       "      <td>33.0</td>\n",
       "      <td>14.0</td>\n",
       "      <td>3.0</td>\n",
       "      <td>16.0</td>\n",
       "      <td>2.0</td>\n",
       "      <td>0.0</td>\n",
       "      <td>1.0</td>\n",
       "      <td>1.0</td>\n",
       "      <td>4.0</td>\n",
       "      <td>1.0</td>\n",
       "      <td>1.0</td>\n",
       "      <td>2.0</td>\n",
       "      <td>2.0</td>\n",
       "      <td>2.0</td>\n",
       "      <td>1.0</td>\n",
       "      <td>1.0</td>\n",
       "      <td>0.0</td>\n",
       "    </tr>\n",
       "    <tr>\n",
       "      <th>4</th>\n",
       "      <td>18.0</td>\n",
       "      <td>19.0</td>\n",
       "      <td>5.0</td>\n",
       "      <td>17.0</td>\n",
       "      <td>1.0</td>\n",
       "      <td>0.0</td>\n",
       "      <td>1.0</td>\n",
       "      <td>1.0</td>\n",
       "      <td>4.0</td>\n",
       "      <td>2.0</td>\n",
       "      <td>1.0</td>\n",
       "      <td>2.0</td>\n",
       "      <td>2.0</td>\n",
       "      <td>1.0</td>\n",
       "      <td>2.0</td>\n",
       "      <td>1.0</td>\n",
       "      <td>1.0</td>\n",
       "    </tr>\n",
       "    <tr>\n",
       "      <th>5</th>\n",
       "      <td>17.0</td>\n",
       "      <td>15.0</td>\n",
       "      <td>5.0</td>\n",
       "      <td>16.0</td>\n",
       "      <td>2.0</td>\n",
       "      <td>0.0</td>\n",
       "      <td>1.0</td>\n",
       "      <td>3.0</td>\n",
       "      <td>4.0</td>\n",
       "      <td>2.0</td>\n",
       "      <td>1.0</td>\n",
       "      <td>2.0</td>\n",
       "      <td>2.0</td>\n",
       "      <td>2.0</td>\n",
       "      <td>2.0</td>\n",
       "      <td>9.0</td>\n",
       "      <td>0.0</td>\n",
       "    </tr>\n",
       "    <tr>\n",
       "      <th>6</th>\n",
       "      <td>27.0</td>\n",
       "      <td>21.0</td>\n",
       "      <td>5.0</td>\n",
       "      <td>17.0</td>\n",
       "      <td>2.0</td>\n",
       "      <td>0.0</td>\n",
       "      <td>1.0</td>\n",
       "      <td>1.0</td>\n",
       "      <td>1.0</td>\n",
       "      <td>3.0</td>\n",
       "      <td>1.0</td>\n",
       "      <td>2.0</td>\n",
       "      <td>2.0</td>\n",
       "      <td>2.0</td>\n",
       "      <td>1.0</td>\n",
       "      <td>1.0</td>\n",
       "      <td>0.0</td>\n",
       "    </tr>\n",
       "    <tr>\n",
       "      <th>7</th>\n",
       "      <td>19.0</td>\n",
       "      <td>18.0</td>\n",
       "      <td>5.0</td>\n",
       "      <td>17.0</td>\n",
       "      <td>2.0</td>\n",
       "      <td>0.0</td>\n",
       "      <td>1.0</td>\n",
       "      <td>3.0</td>\n",
       "      <td>4.0</td>\n",
       "      <td>4.0</td>\n",
       "      <td>1.0</td>\n",
       "      <td>2.0</td>\n",
       "      <td>2.0</td>\n",
       "      <td>2.0</td>\n",
       "      <td>2.0</td>\n",
       "      <td>2.0</td>\n",
       "      <td>0.0</td>\n",
       "    </tr>\n",
       "    <tr>\n",
       "      <th>8</th>\n",
       "      <td>27.0</td>\n",
       "      <td>19.0</td>\n",
       "      <td>5.0</td>\n",
       "      <td>17.0</td>\n",
       "      <td>2.0</td>\n",
       "      <td>0.0</td>\n",
       "      <td>1.0</td>\n",
       "      <td>1.0</td>\n",
       "      <td>4.0</td>\n",
       "      <td>2.0</td>\n",
       "      <td>1.0</td>\n",
       "      <td>2.0</td>\n",
       "      <td>2.0</td>\n",
       "      <td>2.0</td>\n",
       "      <td>1.0</td>\n",
       "      <td>1.0</td>\n",
       "      <td>1.0</td>\n",
       "    </tr>\n",
       "    <tr>\n",
       "      <th>9</th>\n",
       "      <td>19.0</td>\n",
       "      <td>16.0</td>\n",
       "      <td>5.0</td>\n",
       "      <td>17.0</td>\n",
       "      <td>2.0</td>\n",
       "      <td>0.0</td>\n",
       "      <td>1.0</td>\n",
       "      <td>3.0</td>\n",
       "      <td>1.0</td>\n",
       "      <td>1.0</td>\n",
       "      <td>1.0</td>\n",
       "      <td>2.0</td>\n",
       "      <td>2.0</td>\n",
       "      <td>2.0</td>\n",
       "      <td>1.0</td>\n",
       "      <td>1.0</td>\n",
       "      <td>0.0</td>\n",
       "    </tr>\n",
       "  </tbody>\n",
       "</table>\n",
       "</div>"
      ],
      "text/plain": [
       "   AGEP  SCHL  MAR  RELP  DIS  ESP  CIT  MIG  MIL  ANC NATIVITY DEAR DEYE  \\\n",
       "0  30.0  14.0  1.0  16.0  2.0  0.0  1.0  3.0  4.0  1.0      1.0  2.0  2.0   \n",
       "1  21.0  16.0  5.0  17.0  2.0  0.0  1.0  1.0  4.0  2.0      1.0  2.0  2.0   \n",
       "2  65.0  22.0  5.0  17.0  2.0  0.0  1.0  1.0  4.0  1.0      1.0  2.0  2.0   \n",
       "3  33.0  14.0  3.0  16.0  2.0  0.0  1.0  1.0  4.0  1.0      1.0  2.0  2.0   \n",
       "4  18.0  19.0  5.0  17.0  1.0  0.0  1.0  1.0  4.0  2.0      1.0  2.0  2.0   \n",
       "5  17.0  15.0  5.0  16.0  2.0  0.0  1.0  3.0  4.0  2.0      1.0  2.0  2.0   \n",
       "6  27.0  21.0  5.0  17.0  2.0  0.0  1.0  1.0  1.0  3.0      1.0  2.0  2.0   \n",
       "7  19.0  18.0  5.0  17.0  2.0  0.0  1.0  3.0  4.0  4.0      1.0  2.0  2.0   \n",
       "8  27.0  19.0  5.0  17.0  2.0  0.0  1.0  1.0  4.0  2.0      1.0  2.0  2.0   \n",
       "9  19.0  16.0  5.0  17.0  2.0  0.0  1.0  3.0  1.0  1.0      1.0  2.0  2.0   \n",
       "\n",
       "  DREM  SEX RAC1P  ESR  \n",
       "0  2.0  1.0   8.0  0.0  \n",
       "1  2.0  1.0   1.0  1.0  \n",
       "2  2.0  1.0   1.0  1.0  \n",
       "3  2.0  1.0   1.0  0.0  \n",
       "4  1.0  2.0   1.0  1.0  \n",
       "5  2.0  2.0   9.0  0.0  \n",
       "6  2.0  1.0   1.0  0.0  \n",
       "7  2.0  2.0   2.0  0.0  \n",
       "8  2.0  1.0   1.0  1.0  \n",
       "9  2.0  1.0   1.0  0.0  "
      ]
     },
     "execution_count": 8,
     "metadata": {},
     "output_type": "execute_result"
    }
   ],
   "source": [
    "df = cast_features(ACSProblem.categorical_features+[target_task], ACSProblem.numerical_features, dataset_df)\n",
    "df.head(10)"
   ]
  },
  {
   "cell_type": "code",
   "execution_count": 9,
   "metadata": {},
   "outputs": [
    {
     "name": "stdout",
     "output_type": "stream",
     "text": [
      "<class 'pandas.core.frame.DataFrame'>\n",
      "RangeIndex: 195665 entries, 0 to 195664\n",
      "Data columns (total 17 columns):\n",
      " #   Column    Non-Null Count   Dtype   \n",
      "---  ------    --------------   -----   \n",
      " 0   AGEP      195665 non-null  float64 \n",
      " 1   SCHL      195665 non-null  category\n",
      " 2   MAR       195665 non-null  category\n",
      " 3   RELP      195665 non-null  category\n",
      " 4   DIS       195665 non-null  category\n",
      " 5   ESP       195665 non-null  category\n",
      " 6   CIT       195665 non-null  category\n",
      " 7   MIG       195665 non-null  category\n",
      " 8   MIL       195665 non-null  category\n",
      " 9   ANC       195665 non-null  category\n",
      " 10  NATIVITY  195665 non-null  category\n",
      " 11  DEAR      195665 non-null  category\n",
      " 12  DEYE      195665 non-null  category\n",
      " 13  DREM      195665 non-null  category\n",
      " 14  SEX       195665 non-null  category\n",
      " 15  RAC1P     195665 non-null  category\n",
      " 16  ESR       195665 non-null  category\n",
      "dtypes: category(16), float64(1)\n",
      "memory usage: 4.5 MB\n"
     ]
    }
   ],
   "source": [
    "df.info()"
   ]
  },
  {
   "cell_type": "markdown",
   "metadata": {},
   "source": [
    "Now that we have fixed the erroneous data types, let's check for missing values! We will start by identyifying the features with missing values and the quantity of these missing values in our dataset."
   ]
  },
  {
   "cell_type": "code",
   "execution_count": 10,
   "metadata": {},
   "outputs": [
    {
     "data": {
      "text/plain": [
       "AGEP        0\n",
       "SCHL        0\n",
       "MAR         0\n",
       "RELP        0\n",
       "DIS         0\n",
       "ESP         0\n",
       "CIT         0\n",
       "MIG         0\n",
       "MIL         0\n",
       "ANC         0\n",
       "NATIVITY    0\n",
       "DEAR        0\n",
       "DEYE        0\n",
       "DREM        0\n",
       "SEX         0\n",
       "RAC1P       0\n",
       "ESR         0\n",
       "dtype: int64"
      ]
     },
     "execution_count": 10,
     "metadata": {},
     "output_type": "execute_result"
    }
   ],
   "source": [
    "# Print the missing values per column\n",
    "df.isna().sum()"
   ]
  },
  {
   "cell_type": "markdown",
   "metadata": {},
   "source": [
    "Since our dataset has no missing values, let's move on to generate and review the descriptive statistics of the features and the target. These will help us understand the distribution of both features and the target. Additionally, they will help us determine the most suitable visualization method for each column in the dataset."
   ]
  },
  {
   "cell_type": "code",
   "execution_count": 11,
   "metadata": {},
   "outputs": [
    {
     "name": "stdout",
     "output_type": "stream",
     "text": [
      "Descriptive statistics for dataset:\n"
     ]
    },
    {
     "data": {
      "text/html": [
       "<div>\n",
       "<style scoped>\n",
       "    .dataframe tbody tr th:only-of-type {\n",
       "        vertical-align: middle;\n",
       "    }\n",
       "\n",
       "    .dataframe tbody tr th {\n",
       "        vertical-align: top;\n",
       "    }\n",
       "\n",
       "    .dataframe thead th {\n",
       "        text-align: right;\n",
       "    }\n",
       "</style>\n",
       "<table border=\"1\" class=\"dataframe\">\n",
       "  <thead>\n",
       "    <tr style=\"text-align: right;\">\n",
       "      <th></th>\n",
       "      <th>AGEP</th>\n",
       "      <th>SCHL</th>\n",
       "      <th>MAR</th>\n",
       "      <th>RELP</th>\n",
       "      <th>DIS</th>\n",
       "      <th>ESP</th>\n",
       "      <th>CIT</th>\n",
       "      <th>MIG</th>\n",
       "      <th>MIL</th>\n",
       "      <th>ANC</th>\n",
       "      <th>NATIVITY</th>\n",
       "      <th>DEAR</th>\n",
       "      <th>DEYE</th>\n",
       "      <th>DREM</th>\n",
       "      <th>SEX</th>\n",
       "      <th>RAC1P</th>\n",
       "      <th>ESR</th>\n",
       "    </tr>\n",
       "  </thead>\n",
       "  <tbody>\n",
       "    <tr>\n",
       "      <th>count</th>\n",
       "      <td>195665.000000</td>\n",
       "      <td>195665.0</td>\n",
       "      <td>195665.0</td>\n",
       "      <td>195665.0</td>\n",
       "      <td>195665.0</td>\n",
       "      <td>195665.0</td>\n",
       "      <td>195665.0</td>\n",
       "      <td>195665.0</td>\n",
       "      <td>195665.0</td>\n",
       "      <td>195665.0</td>\n",
       "      <td>195665.0</td>\n",
       "      <td>195665.0</td>\n",
       "      <td>195665.0</td>\n",
       "      <td>195665.0</td>\n",
       "      <td>195665.0</td>\n",
       "      <td>195665.0</td>\n",
       "      <td>195665.0</td>\n",
       "    </tr>\n",
       "    <tr>\n",
       "      <th>unique</th>\n",
       "      <td>NaN</td>\n",
       "      <td>24.0</td>\n",
       "      <td>5.0</td>\n",
       "      <td>18.0</td>\n",
       "      <td>2.0</td>\n",
       "      <td>9.0</td>\n",
       "      <td>5.0</td>\n",
       "      <td>3.0</td>\n",
       "      <td>4.0</td>\n",
       "      <td>4.0</td>\n",
       "      <td>2.0</td>\n",
       "      <td>2.0</td>\n",
       "      <td>2.0</td>\n",
       "      <td>2.0</td>\n",
       "      <td>2.0</td>\n",
       "      <td>9.0</td>\n",
       "      <td>2.0</td>\n",
       "    </tr>\n",
       "    <tr>\n",
       "      <th>top</th>\n",
       "      <td>NaN</td>\n",
       "      <td>21.0</td>\n",
       "      <td>1.0</td>\n",
       "      <td>0.0</td>\n",
       "      <td>2.0</td>\n",
       "      <td>0.0</td>\n",
       "      <td>1.0</td>\n",
       "      <td>1.0</td>\n",
       "      <td>4.0</td>\n",
       "      <td>1.0</td>\n",
       "      <td>1.0</td>\n",
       "      <td>2.0</td>\n",
       "      <td>2.0</td>\n",
       "      <td>2.0</td>\n",
       "      <td>1.0</td>\n",
       "      <td>1.0</td>\n",
       "      <td>1.0</td>\n",
       "    </tr>\n",
       "    <tr>\n",
       "      <th>freq</th>\n",
       "      <td>NaN</td>\n",
       "      <td>46526.0</td>\n",
       "      <td>102442.0</td>\n",
       "      <td>90761.0</td>\n",
       "      <td>185067.0</td>\n",
       "      <td>194729.0</td>\n",
       "      <td>131618.0</td>\n",
       "      <td>168406.0</td>\n",
       "      <td>185400.0</td>\n",
       "      <td>120263.0</td>\n",
       "      <td>134551.0</td>\n",
       "      <td>192613.0</td>\n",
       "      <td>193466.0</td>\n",
       "      <td>192540.0</td>\n",
       "      <td>103311.0</td>\n",
       "      <td>121006.0</td>\n",
       "      <td>172273.0</td>\n",
       "    </tr>\n",
       "    <tr>\n",
       "      <th>mean</th>\n",
       "      <td>42.734914</td>\n",
       "      <td>NaN</td>\n",
       "      <td>NaN</td>\n",
       "      <td>NaN</td>\n",
       "      <td>NaN</td>\n",
       "      <td>NaN</td>\n",
       "      <td>NaN</td>\n",
       "      <td>NaN</td>\n",
       "      <td>NaN</td>\n",
       "      <td>NaN</td>\n",
       "      <td>NaN</td>\n",
       "      <td>NaN</td>\n",
       "      <td>NaN</td>\n",
       "      <td>NaN</td>\n",
       "      <td>NaN</td>\n",
       "      <td>NaN</td>\n",
       "      <td>NaN</td>\n",
       "    </tr>\n",
       "    <tr>\n",
       "      <th>std</th>\n",
       "      <td>14.884622</td>\n",
       "      <td>NaN</td>\n",
       "      <td>NaN</td>\n",
       "      <td>NaN</td>\n",
       "      <td>NaN</td>\n",
       "      <td>NaN</td>\n",
       "      <td>NaN</td>\n",
       "      <td>NaN</td>\n",
       "      <td>NaN</td>\n",
       "      <td>NaN</td>\n",
       "      <td>NaN</td>\n",
       "      <td>NaN</td>\n",
       "      <td>NaN</td>\n",
       "      <td>NaN</td>\n",
       "      <td>NaN</td>\n",
       "      <td>NaN</td>\n",
       "      <td>NaN</td>\n",
       "    </tr>\n",
       "    <tr>\n",
       "      <th>min</th>\n",
       "      <td>17.000000</td>\n",
       "      <td>NaN</td>\n",
       "      <td>NaN</td>\n",
       "      <td>NaN</td>\n",
       "      <td>NaN</td>\n",
       "      <td>NaN</td>\n",
       "      <td>NaN</td>\n",
       "      <td>NaN</td>\n",
       "      <td>NaN</td>\n",
       "      <td>NaN</td>\n",
       "      <td>NaN</td>\n",
       "      <td>NaN</td>\n",
       "      <td>NaN</td>\n",
       "      <td>NaN</td>\n",
       "      <td>NaN</td>\n",
       "      <td>NaN</td>\n",
       "      <td>NaN</td>\n",
       "    </tr>\n",
       "    <tr>\n",
       "      <th>25%</th>\n",
       "      <td>30.000000</td>\n",
       "      <td>NaN</td>\n",
       "      <td>NaN</td>\n",
       "      <td>NaN</td>\n",
       "      <td>NaN</td>\n",
       "      <td>NaN</td>\n",
       "      <td>NaN</td>\n",
       "      <td>NaN</td>\n",
       "      <td>NaN</td>\n",
       "      <td>NaN</td>\n",
       "      <td>NaN</td>\n",
       "      <td>NaN</td>\n",
       "      <td>NaN</td>\n",
       "      <td>NaN</td>\n",
       "      <td>NaN</td>\n",
       "      <td>NaN</td>\n",
       "      <td>NaN</td>\n",
       "    </tr>\n",
       "    <tr>\n",
       "      <th>50%</th>\n",
       "      <td>42.000000</td>\n",
       "      <td>NaN</td>\n",
       "      <td>NaN</td>\n",
       "      <td>NaN</td>\n",
       "      <td>NaN</td>\n",
       "      <td>NaN</td>\n",
       "      <td>NaN</td>\n",
       "      <td>NaN</td>\n",
       "      <td>NaN</td>\n",
       "      <td>NaN</td>\n",
       "      <td>NaN</td>\n",
       "      <td>NaN</td>\n",
       "      <td>NaN</td>\n",
       "      <td>NaN</td>\n",
       "      <td>NaN</td>\n",
       "      <td>NaN</td>\n",
       "      <td>NaN</td>\n",
       "    </tr>\n",
       "    <tr>\n",
       "      <th>75%</th>\n",
       "      <td>55.000000</td>\n",
       "      <td>NaN</td>\n",
       "      <td>NaN</td>\n",
       "      <td>NaN</td>\n",
       "      <td>NaN</td>\n",
       "      <td>NaN</td>\n",
       "      <td>NaN</td>\n",
       "      <td>NaN</td>\n",
       "      <td>NaN</td>\n",
       "      <td>NaN</td>\n",
       "      <td>NaN</td>\n",
       "      <td>NaN</td>\n",
       "      <td>NaN</td>\n",
       "      <td>NaN</td>\n",
       "      <td>NaN</td>\n",
       "      <td>NaN</td>\n",
       "      <td>NaN</td>\n",
       "    </tr>\n",
       "    <tr>\n",
       "      <th>max</th>\n",
       "      <td>94.000000</td>\n",
       "      <td>NaN</td>\n",
       "      <td>NaN</td>\n",
       "      <td>NaN</td>\n",
       "      <td>NaN</td>\n",
       "      <td>NaN</td>\n",
       "      <td>NaN</td>\n",
       "      <td>NaN</td>\n",
       "      <td>NaN</td>\n",
       "      <td>NaN</td>\n",
       "      <td>NaN</td>\n",
       "      <td>NaN</td>\n",
       "      <td>NaN</td>\n",
       "      <td>NaN</td>\n",
       "      <td>NaN</td>\n",
       "      <td>NaN</td>\n",
       "      <td>NaN</td>\n",
       "    </tr>\n",
       "  </tbody>\n",
       "</table>\n",
       "</div>"
      ],
      "text/plain": [
       "                 AGEP      SCHL       MAR      RELP       DIS       ESP  \\\n",
       "count   195665.000000  195665.0  195665.0  195665.0  195665.0  195665.0   \n",
       "unique            NaN      24.0       5.0      18.0       2.0       9.0   \n",
       "top               NaN      21.0       1.0       0.0       2.0       0.0   \n",
       "freq              NaN   46526.0  102442.0   90761.0  185067.0  194729.0   \n",
       "mean        42.734914       NaN       NaN       NaN       NaN       NaN   \n",
       "std         14.884622       NaN       NaN       NaN       NaN       NaN   \n",
       "min         17.000000       NaN       NaN       NaN       NaN       NaN   \n",
       "25%         30.000000       NaN       NaN       NaN       NaN       NaN   \n",
       "50%         42.000000       NaN       NaN       NaN       NaN       NaN   \n",
       "75%         55.000000       NaN       NaN       NaN       NaN       NaN   \n",
       "max         94.000000       NaN       NaN       NaN       NaN       NaN   \n",
       "\n",
       "             CIT       MIG       MIL       ANC  NATIVITY      DEAR      DEYE  \\\n",
       "count   195665.0  195665.0  195665.0  195665.0  195665.0  195665.0  195665.0   \n",
       "unique       5.0       3.0       4.0       4.0       2.0       2.0       2.0   \n",
       "top          1.0       1.0       4.0       1.0       1.0       2.0       2.0   \n",
       "freq    131618.0  168406.0  185400.0  120263.0  134551.0  192613.0  193466.0   \n",
       "mean         NaN       NaN       NaN       NaN       NaN       NaN       NaN   \n",
       "std          NaN       NaN       NaN       NaN       NaN       NaN       NaN   \n",
       "min          NaN       NaN       NaN       NaN       NaN       NaN       NaN   \n",
       "25%          NaN       NaN       NaN       NaN       NaN       NaN       NaN   \n",
       "50%          NaN       NaN       NaN       NaN       NaN       NaN       NaN   \n",
       "75%          NaN       NaN       NaN       NaN       NaN       NaN       NaN   \n",
       "max          NaN       NaN       NaN       NaN       NaN       NaN       NaN   \n",
       "\n",
       "            DREM       SEX     RAC1P       ESR  \n",
       "count   195665.0  195665.0  195665.0  195665.0  \n",
       "unique       2.0       2.0       9.0       2.0  \n",
       "top          2.0       1.0       1.0       1.0  \n",
       "freq    192540.0  103311.0  121006.0  172273.0  \n",
       "mean         NaN       NaN       NaN       NaN  \n",
       "std          NaN       NaN       NaN       NaN  \n",
       "min          NaN       NaN       NaN       NaN  \n",
       "25%          NaN       NaN       NaN       NaN  \n",
       "50%          NaN       NaN       NaN       NaN  \n",
       "75%          NaN       NaN       NaN       NaN  \n",
       "max          NaN       NaN       NaN       NaN  "
      ]
     },
     "execution_count": 11,
     "metadata": {},
     "output_type": "execute_result"
    }
   ],
   "source": [
    "# Generate descriptive statistics about your dataset\n",
    "print('Descriptive statistics for dataset:')\n",
    "df.describe(include='all')"
   ]
  },
  {
   "cell_type": "markdown",
   "metadata": {},
   "source": [
    "#### 1.2 Exploratory Data Analysis: Visualisations\n",
    "\n",
    "\n",
    "**1. Target distribution visualization**\n",
    "\n",
    "Let's analyze the distribution of samples acfoss each target label. Since our target task (i.e., Employment Status Record - `ESR`) is categorical, an effective method to visualize the target labels is through bar plots."
   ]
  },
  {
   "cell_type": "code",
   "execution_count": 12,
   "metadata": {},
   "outputs": [
    {
     "data": {
      "image/png": "[encoded data removed]",
      "text/plain": [
       "<Figure size 640x480 with 1 Axes>"
      ]
     },
     "metadata": {},
     "output_type": "display_data"
    }
   ],
   "source": [
    "\n",
    "# Create a bar plot to visualize the targets\n",
    "df[ACSProblem.target_task].value_counts().sort_values().plot(kind='bar')\n",
    "\n",
    "# Add axes labels\n",
    "plt.ylabel('Number of samples')\n",
    "plt.xlabel('Employment Status Record - ESR')\n",
    "\n",
    "# Show Figure\n",
    "plt.show()"
   ]
  },
  {
   "cell_type": "markdown",
   "metadata": {},
   "source": [
    "<div class=\"alert alert-block alert-danger\">\n",
    "<b> Q: What insights can you derive from the bar plot of the target? </b>\n",
    "</div>"
   ]
  },
  {
   "cell_type": "code",
   "execution_count": 13,
   "metadata": {},
   "outputs": [],
   "source": [
    "# Add your answer here:\n",
    "# inbalanced data"
   ]
  },
  {
   "cell_type": "markdown",
   "metadata": {},
   "source": [
    "**2. Target and sensitive group distribution visualization**\n",
    "\n",
    "Now, let's see the proportion of the sensitive group (i.e., Race - `RAC1P`) per target label. For simplicity we include the races from the [original paper](https://arxiv.org/abs/2108.04884) here:\n",
    "\n",
    "* 1: White alone\n",
    "* 2: Black or African American alone\n",
    "* 3: American Indian alone\n",
    "* 4: Alaska Native alone\n",
    "* 5: American Indian and Alaska Native tribes specified, or American Indian or Alaska Native, not specified and no other races\n",
    "* 6: Asian alone\n",
    "* 7: Native Hawaiian and Other Pacific Islander alone\n",
    "* 8: Some Other Race alone\n",
    "* 9: Two or More Races"
   ]
  },
  {
   "cell_type": "code",
   "execution_count": 14,
   "metadata": {},
   "outputs": [
    {
     "name": "stderr",
     "output_type": "stream",
     "text": [
      "C:\\Users\\qy\\AppData\\Local\\Temp\\ipykernel_37276\\1184262022.py:2: FutureWarning: The default of observed=False is deprecated and will be changed to True in a future version of pandas. Pass observed=False to retain current behavior or observed=True to adopt the future default and silence this warning.\n",
      "  df.groupby([ACSProblem.target_task, ACSProblem.sensitive_group])[ACSProblem.sensitive_group].count().unstack().plot(\n"
     ]
    },
    {
     "data": {
      "image/png": "[encoded data removed]",
      "text/plain": [
       "<Figure size 640x480 with 1 Axes>"
      ]
     },
     "metadata": {},
     "output_type": "display_data"
    }
   ],
   "source": [
    "# Grouping based on target and sensitive group and plot\n",
    "df.groupby([ACSProblem.target_task, ACSProblem.sensitive_group])[ACSProblem.sensitive_group].count().unstack().plot(\n",
    "    kind=\"bar\", stacked=True)\n",
    "\n",
    "# Add legend\n",
    "plt.legend(title='Race')\n",
    "\n",
    "# Add axes labels\n",
    "plt.ylabel('Number of samples')\n",
    "plt.xlabel('Employment Status Record - ESR')\n",
    "\n",
    "# Show Figure\n",
    "plt.show()"
   ]
  },
  {
   "cell_type": "markdown",
   "metadata": {},
   "source": [
    "<div class=\"alert alert-block alert-danger\">\n",
    "<b> Q: What insights can you derive from the bar plot? </b>\n",
    "</div>"
   ]
  },
  {
   "cell_type": "code",
   "execution_count": 15,
   "metadata": {},
   "outputs": [],
   "source": [
    "# Add your answer here:\n"
   ]
  },
  {
   "cell_type": "markdown",
   "metadata": {},
   "source": [
    "<div class=\"alert alert-block alert-danger\">\n",
    "<h4>👩🏾‍💻👨🏻‍💻 Task 2.1: Find an appropriate visualization for the sensitive groups x targets </h4>\n",
    "\n",
    "The previous plot allows to investigate a general trend of the sensitive group allocation on each class, but it does not allow to understand what the exact amount of the underrepresented sensitive groups.\n",
    "\n",
    "* Decide an appropriate plot that allows to effectively display the proportion of each target class per sensitive group. \n",
    "* Create a function `sensitive_group_plot(data:pd.DataFrame, sensitive: str, target: str)` that generates the plot. \n",
    "* The function must both the `Figure` and the `Axis` objects.\n",
    "  \n",
    "</div>"
   ]
  },
  {
   "cell_type": "markdown",
   "metadata": {},
   "source": [
    "<div class=\"alert alert-heading alert-danger\" style=\"background-color: white; border: 2px solid; border-radius: 5px; color: #000; border-color:#AAA; padding: 10px\">\n",
    "    <b>💎 Tip</b>\n",
    "\n",
    "* The folowing plot includes the Race (i.e., `RAC1P`) memberships on x-axis, the amount of the samples with this membership on y-axis and the target category using colors.\n",
    "\n",
    "* This is **not a good visualization because some groups (e.g., group 4 and 5) are not displayed efficiently** (akin to the one above).\n",
    "</div>\n"
   ]
  },
  {
   "cell_type": "code",
   "execution_count": 16,
   "metadata": {},
   "outputs": [
    {
     "data": {
      "text/plain": [
       "Text(0.5, 9.444444444444438, 'Race')"
      ]
     },
     "execution_count": 16,
     "metadata": {},
     "output_type": "execute_result"
    },
    {
     "data": {
      "image/png": "[encoded data removed]",
      "text/plain": [
       "<Figure size 572x500 with 1 Axes>"
      ]
     },
     "metadata": {},
     "output_type": "display_data"
    }
   ],
   "source": [
    "# The following example is a bad visualisation!!!\n",
    "# Plot a histogram with stacking bars\n",
    "sns.displot(\n",
    "    df,\n",
    "    x=sensitive_group,\n",
    "    hue=ACSProblem.target_task, \n",
    "    kind=\"hist\",\n",
    "    stat=\"count\",\n",
    "    bins=10,\n",
    "    multiple=\"stack\",\n",
    ")\n",
    "\n",
    "# Add axes labels\n",
    "plt.ylabel('Number of samples')\n",
    "plt.xlabel('Race')\n"
   ]
  },
  {
   "cell_type": "markdown",
   "metadata": {},
   "source": [
    "<div class=\"alert alert-heading alert-danger\" style=\"background-color: white; border: 2px solid; border-radius: 5px; color: #000; border-color:#AAA; padding: 10px\">\n",
    "<b>💎 Tip</b>\n",
    " \n",
    "* Use `ACSProblem.race_labels`, `ACSProblem.sensitive_group` and `ACSProblem.target_task` to find the race labels dictionary, the sensitive group and the target name column, respectively.\n",
    "\n",
    "* Look into [`plt.subplots`](https://matplotlib.org/stable/gallery/subplots_axes_and_figures/subplots_demo.html) to create multiple plots using a `Figure` and `Axis` objects.\n",
    "\n",
    "</div>\n"
   ]
  },
  {
   "cell_type": "code",
   "execution_count": 17,
   "metadata": {},
   "outputs": [
    {
     "data": {
      "text/plain": [
       "RAC1P\n",
       "1.0    14696\n",
       "6.0     3218\n",
       "8.0     2514\n",
       "2.0     1410\n",
       "9.0     1209\n",
       "3.0      197\n",
       "7.0       78\n",
       "5.0       66\n",
       "4.0        4\n",
       "Name: count, dtype: int64"
      ]
     },
     "execution_count": 17,
     "metadata": {},
     "output_type": "execute_result"
    }
   ],
   "source": [
    "esr0 = df[df['ESR']==0]\n",
    "esr0['RAC1P'].value_counts()"
   ]
  },
  {
   "cell_type": "code",
   "execution_count": 18,
   "metadata": {},
   "outputs": [],
   "source": [
    "def sensitive_group_plot(data:pd.DataFrame, race_labels : list[str], sensitive: str, target: str) -> (plt.Figure, plt.Axes):\n",
    "    \"\"\"\n",
    "    Creates a line plot for each list of data in the given list of data, title and labels.\n",
    "\n",
    "    Args:\n",
    "        data (pd.DataFrame): dataframe including all the avaible data\n",
    "        race_labels (list[str]): the list of races available in the dataset\n",
    "        sensitive (str): the column name of the sensitive attribute\n",
    "        target (str): the column name of the target task\n",
    "        \n",
    "    Returns:\n",
    "        (plt.Figure, plt.Axes): matplotlib figure and axes objects\n",
    "    \"\"\"\n",
    "    \n",
    "    # Add your code here:\n",
    "    # category_to_label = {k:v for k, v in enumerate(race_labels, start=1)}\n",
    "    # data[sensitive] = data[sensitive].map(category_to_label)\n",
    "    \n",
    "    esr0 = data[data[target]==0]\n",
    "    esr1 = data[data[target]==1]\n",
    "    val_count0 = esr0[sensitive].value_counts()\n",
    "    val_count1 = esr1[sensitive].value_counts()\n",
    "    fig, ax = plt.subplots(1, 2)\n",
    "\n",
    "    ax[0].bar(val_count0.index, val_count0.values)\n",
    "    ax[0].set_title(\"ESR=0\")\n",
    "    #ax[0].tick_params(labelrotation=60)\n",
    "    ax[1].bar(val_count1.index, val_count1.values)\n",
    "    ax[1].set_title(\"ESR=1\")\n",
    "    #ax[1].tick_params(labelrotation=60)\n",
    "\n",
    "    plt.tight_layout()\n",
    "    return fig,ax\n",
    "\n",
    "    \n",
    "    "
   ]
  },
  {
   "cell_type": "code",
   "execution_count": 19,
   "metadata": {},
   "outputs": [
    {
     "data": {
      "image/png": "[encoded data removed]",
      "text/plain": [
       "<Figure size 640x480 with 2 Axes>"
      ]
     },
     "metadata": {},
     "output_type": "display_data"
    }
   ],
   "source": [
    "fig, ax =  sensitive_group_plot(df, race_labels=list(ACSProblem.race_labels.values()), sensitive=ACSProblem.sensitive_group, target=target_task)"
   ]
  },
  {
   "cell_type": "markdown",
   "metadata": {},
   "source": [
    "<div class=\"alert alert-block alert-warning\">\n",
    "<h4>👨🏽‍💻👩🏻‍💻 [Optional] TASK 2.2: Input Features Visualisations</h4>\n",
    "\n",
    "* Create a function `histograms(data:pd.DataFrame, categorical_features: list[str])` that will plot a histogram for each of the features in the categorical features of the dataset \n",
    "* The function must return both the `Figure` and the `Axis` objects\n",
    "</div>"
   ]
  },
  {
   "cell_type": "code",
   "execution_count": null,
   "metadata": {},
   "outputs": [],
   "source": [
    "def histograms(data:pd.DataFrame, categorical_features: list[str], column_name_dic: dict) -> (plt.Figure, plt.Axes):\n",
    "    \"\"\"\n",
    "    Creates a histogram plot for each of the categorical features in the given dataframe.\n",
    "\n",
    "    Args:\n",
    "        data (pd.DataFrame): dataframe with input features \n",
    "        categorical_features (List[str]): list of categorical feature names\n",
    "    Returns:\n",
    "        (plt.Figure, plt.Axes): matplotlib figure and axes objects\n",
    "    \"\"\"\n",
    "    \n",
    "    \n",
    "    # Add your code here:\n",
    "    "
   ]
  },
  {
   "cell_type": "markdown",
   "metadata": {},
   "source": [
    "<div class=\"alert alert-block alert-danger\">\n",
    "<h4>🧑🏼‍💻👩🏿‍💻TASK 2.3: Plotting numerical data</h4>\n",
    "\n",
    "* Decide an appropriate plot that allows to effectively display the numerical features and the proportion of each target class \n",
    "* Create a function `numerical_plot(data:pd.DataFrame, numerical_features: list[str])` that produces the plot you picked\n",
    "</div>"
   ]
  },
  {
   "cell_type": "markdown",
   "metadata": {},
   "source": [
    "<div class=\"alert alert-heading alert-danger\" style=\"background-color: white; border: 2px solid; border-radius: 5px; color: #000; border-color:#AAA; padding: 10px\">\n",
    "<b>💎 Tip</b>\n",
    " \n",
    "*  Use `ACSProblem.numerical_features` and `ACSProblem.target_task` to get the numerical features and the target task of this ML problem.\n",
    "</div>\n"
   ]
  },
  {
   "cell_type": "code",
   "execution_count": 20,
   "metadata": {},
   "outputs": [],
   "source": [
    "def numerical_plot(data:pd.DataFrame, numerical_features: list[str], target: str):\n",
    "    \"\"\"\n",
    "    Creates a histogram plot for each of the categorical features in the given dataframe.\n",
    "\n",
    "    Args:\n",
    "        data (pd.DataFrame): dataframe with input features \n",
    "        categorical_features (List[str]): list of categorical feature names\n",
    "        \n",
    "    \"\"\"\n",
    "    feature = numerical_features[0]\n",
    "    fig, ax = plt.subplots(2, 1)\n",
    "    feature_data1 = data[data[target]==0][feature]\n",
    "    counts, bin_edges = np.histogram(feature_data1, bins=10, density=True)\n",
    "    pdf = counts / sum(counts)\n",
    "    ax[0].plot(bin_edges[1:], pdf, label='PDF')\n",
    "    ax[0].set_title('Probability Distribution of ' + feature + ' ESR=0')\n",
    "    ax[0].set_xlabel(feature)\n",
    "    ax[0].set_ylabel('Probability')\n",
    "    \n",
    "    feature_data2 = data[data[target]==1][feature]\n",
    "    counts, bin_edges = np.histogram(feature_data2, bins=10, density=True)\n",
    "    pdf = counts / sum(counts)\n",
    "    ax[1].plot(bin_edges[1:], pdf, label='PDF')\n",
    "    ax[1].set_title('Probability Distribution of ' + feature + ' ESR=1')\n",
    "    ax[1].set_xlabel(feature)\n",
    "    ax[1].set_ylabel('Probability')\n",
    "    \n",
    "    plt.tight_layout()\n",
    "    return fig, ax\n",
    "    "
   ]
  },
  {
   "cell_type": "code",
   "execution_count": 21,
   "metadata": {},
   "outputs": [
    {
     "data": {
      "image/png": "[encoded data removed]",
      "text/plain": [
       "<Figure size 640x480 with 2 Axes>"
      ]
     },
     "metadata": {},
     "output_type": "display_data"
    }
   ],
   "source": [
    "fig, ax = numerical_plot(df, ACSProblem.numerical_features, target=target_task)"
   ]
  },
  {
   "cell_type": "markdown",
   "metadata": {},
   "source": [
    "#### 1.3 Data Transformation \n",
    "\n",
    "Since we haven't covered data transformations yet, feel free to consider it a black box and not stress about it. However, if you're curious, you can explore the implementation of the `ACSDataset Class`."
   ]
  },
  {
   "cell_type": "code",
   "execution_count": 22,
   "metadata": {},
   "outputs": [
    {
     "name": "stderr",
     "output_type": "stream",
     "text": [
      "c:\\Users\\qy\\anaconda3\\envs\\daps\\Lib\\site-packages\\sklearn\\preprocessing\\_encoders.py:975: FutureWarning: `sparse` was renamed to `sparse_output` in version 1.2 and will be removed in 1.4. `sparse_output` is ignored unless you leave `sparse` to its default value.\n",
      "  warnings.warn(\n"
     ]
    }
   ],
   "source": [
    "# Perform data transformation\n",
    "df_trans=ACSProblem.data_transforms(df)"
   ]
  },
  {
   "cell_type": "code",
   "execution_count": 23,
   "metadata": {},
   "outputs": [
    {
     "data": {
      "text/html": [
       "<div>\n",
       "<style scoped>\n",
       "    .dataframe tbody tr th:only-of-type {\n",
       "        vertical-align: middle;\n",
       "    }\n",
       "\n",
       "    .dataframe tbody tr th {\n",
       "        vertical-align: top;\n",
       "    }\n",
       "\n",
       "    .dataframe thead th {\n",
       "        text-align: right;\n",
       "    }\n",
       "</style>\n",
       "<table border=\"1\" class=\"dataframe\">\n",
       "  <thead>\n",
       "    <tr style=\"text-align: right;\">\n",
       "      <th></th>\n",
       "      <th>AGEP</th>\n",
       "      <th>SCHL_1.0</th>\n",
       "      <th>SCHL_2.0</th>\n",
       "      <th>SCHL_3.0</th>\n",
       "      <th>SCHL_4.0</th>\n",
       "      <th>SCHL_5.0</th>\n",
       "      <th>SCHL_6.0</th>\n",
       "      <th>SCHL_7.0</th>\n",
       "      <th>SCHL_8.0</th>\n",
       "      <th>SCHL_9.0</th>\n",
       "      <th>...</th>\n",
       "      <th>RAC1P_2.0</th>\n",
       "      <th>RAC1P_3.0</th>\n",
       "      <th>RAC1P_4.0</th>\n",
       "      <th>RAC1P_5.0</th>\n",
       "      <th>RAC1P_6.0</th>\n",
       "      <th>RAC1P_7.0</th>\n",
       "      <th>RAC1P_8.0</th>\n",
       "      <th>RAC1P_9.0</th>\n",
       "      <th>RAC1P</th>\n",
       "      <th>ESR</th>\n",
       "    </tr>\n",
       "  </thead>\n",
       "  <tbody>\n",
       "    <tr>\n",
       "      <th>0</th>\n",
       "      <td>0.168831</td>\n",
       "      <td>0.0</td>\n",
       "      <td>0.0</td>\n",
       "      <td>0.0</td>\n",
       "      <td>0.0</td>\n",
       "      <td>0.0</td>\n",
       "      <td>0.0</td>\n",
       "      <td>0.0</td>\n",
       "      <td>0.0</td>\n",
       "      <td>0.0</td>\n",
       "      <td>...</td>\n",
       "      <td>0.0</td>\n",
       "      <td>0.0</td>\n",
       "      <td>0.0</td>\n",
       "      <td>0.0</td>\n",
       "      <td>0.0</td>\n",
       "      <td>0.0</td>\n",
       "      <td>1.0</td>\n",
       "      <td>0.0</td>\n",
       "      <td>8.0</td>\n",
       "      <td>0.0</td>\n",
       "    </tr>\n",
       "    <tr>\n",
       "      <th>1</th>\n",
       "      <td>0.051948</td>\n",
       "      <td>0.0</td>\n",
       "      <td>0.0</td>\n",
       "      <td>0.0</td>\n",
       "      <td>0.0</td>\n",
       "      <td>0.0</td>\n",
       "      <td>0.0</td>\n",
       "      <td>0.0</td>\n",
       "      <td>0.0</td>\n",
       "      <td>0.0</td>\n",
       "      <td>...</td>\n",
       "      <td>0.0</td>\n",
       "      <td>0.0</td>\n",
       "      <td>0.0</td>\n",
       "      <td>0.0</td>\n",
       "      <td>0.0</td>\n",
       "      <td>0.0</td>\n",
       "      <td>0.0</td>\n",
       "      <td>0.0</td>\n",
       "      <td>1.0</td>\n",
       "      <td>1.0</td>\n",
       "    </tr>\n",
       "    <tr>\n",
       "      <th>2</th>\n",
       "      <td>0.623377</td>\n",
       "      <td>0.0</td>\n",
       "      <td>0.0</td>\n",
       "      <td>0.0</td>\n",
       "      <td>0.0</td>\n",
       "      <td>0.0</td>\n",
       "      <td>0.0</td>\n",
       "      <td>0.0</td>\n",
       "      <td>0.0</td>\n",
       "      <td>0.0</td>\n",
       "      <td>...</td>\n",
       "      <td>0.0</td>\n",
       "      <td>0.0</td>\n",
       "      <td>0.0</td>\n",
       "      <td>0.0</td>\n",
       "      <td>0.0</td>\n",
       "      <td>0.0</td>\n",
       "      <td>0.0</td>\n",
       "      <td>0.0</td>\n",
       "      <td>1.0</td>\n",
       "      <td>1.0</td>\n",
       "    </tr>\n",
       "    <tr>\n",
       "      <th>3</th>\n",
       "      <td>0.207792</td>\n",
       "      <td>0.0</td>\n",
       "      <td>0.0</td>\n",
       "      <td>0.0</td>\n",
       "      <td>0.0</td>\n",
       "      <td>0.0</td>\n",
       "      <td>0.0</td>\n",
       "      <td>0.0</td>\n",
       "      <td>0.0</td>\n",
       "      <td>0.0</td>\n",
       "      <td>...</td>\n",
       "      <td>0.0</td>\n",
       "      <td>0.0</td>\n",
       "      <td>0.0</td>\n",
       "      <td>0.0</td>\n",
       "      <td>0.0</td>\n",
       "      <td>0.0</td>\n",
       "      <td>0.0</td>\n",
       "      <td>0.0</td>\n",
       "      <td>1.0</td>\n",
       "      <td>0.0</td>\n",
       "    </tr>\n",
       "    <tr>\n",
       "      <th>4</th>\n",
       "      <td>0.012987</td>\n",
       "      <td>0.0</td>\n",
       "      <td>0.0</td>\n",
       "      <td>0.0</td>\n",
       "      <td>0.0</td>\n",
       "      <td>0.0</td>\n",
       "      <td>0.0</td>\n",
       "      <td>0.0</td>\n",
       "      <td>0.0</td>\n",
       "      <td>0.0</td>\n",
       "      <td>...</td>\n",
       "      <td>0.0</td>\n",
       "      <td>0.0</td>\n",
       "      <td>0.0</td>\n",
       "      <td>0.0</td>\n",
       "      <td>0.0</td>\n",
       "      <td>0.0</td>\n",
       "      <td>0.0</td>\n",
       "      <td>0.0</td>\n",
       "      <td>1.0</td>\n",
       "      <td>1.0</td>\n",
       "    </tr>\n",
       "  </tbody>\n",
       "</table>\n",
       "<p>5 rows × 96 columns</p>\n",
       "</div>"
      ],
      "text/plain": [
       "       AGEP  SCHL_1.0  SCHL_2.0  SCHL_3.0  SCHL_4.0  SCHL_5.0  SCHL_6.0  \\\n",
       "0  0.168831       0.0       0.0       0.0       0.0       0.0       0.0   \n",
       "1  0.051948       0.0       0.0       0.0       0.0       0.0       0.0   \n",
       "2  0.623377       0.0       0.0       0.0       0.0       0.0       0.0   \n",
       "3  0.207792       0.0       0.0       0.0       0.0       0.0       0.0   \n",
       "4  0.012987       0.0       0.0       0.0       0.0       0.0       0.0   \n",
       "\n",
       "   SCHL_7.0  SCHL_8.0  SCHL_9.0  ...  RAC1P_2.0  RAC1P_3.0  RAC1P_4.0  \\\n",
       "0       0.0       0.0       0.0  ...        0.0        0.0        0.0   \n",
       "1       0.0       0.0       0.0  ...        0.0        0.0        0.0   \n",
       "2       0.0       0.0       0.0  ...        0.0        0.0        0.0   \n",
       "3       0.0       0.0       0.0  ...        0.0        0.0        0.0   \n",
       "4       0.0       0.0       0.0  ...        0.0        0.0        0.0   \n",
       "\n",
       "   RAC1P_5.0  RAC1P_6.0  RAC1P_7.0  RAC1P_8.0  RAC1P_9.0  RAC1P  ESR  \n",
       "0        0.0        0.0        0.0        1.0        0.0    8.0  0.0  \n",
       "1        0.0        0.0        0.0        0.0        0.0    1.0  1.0  \n",
       "2        0.0        0.0        0.0        0.0        0.0    1.0  1.0  \n",
       "3        0.0        0.0        0.0        0.0        0.0    1.0  0.0  \n",
       "4        0.0        0.0        0.0        0.0        0.0    1.0  1.0  \n",
       "\n",
       "[5 rows x 96 columns]"
      ]
     },
     "execution_count": 23,
     "metadata": {},
     "output_type": "execute_result"
    }
   ],
   "source": [
    "# Observe transformed data\n",
    "df_trans.head()"
   ]
  },
  {
   "cell_type": "markdown",
   "metadata": {},
   "source": [
    "### 2. Train Baselines and a Classifier (Offline)"
   ]
  },
  {
   "cell_type": "markdown",
   "metadata": {},
   "source": [
    "Similar to how we've approached the <b>Data Transformation</b> process, we will handle most of the implementation behind the following steps as black-boxes and we will addresss them in later sessions.\n",
    "\n",
    "<b><span style=\"color: #C0392B\">IMPORTANT NOTE 🛑:</span></b> In ELEC0136 week 7, we will learn that during (offline) model training/fitting phase we usually leverage a training set and a validation set. However, `scikit-learn` library does not have build-in support for validation sets. Therefore, in what follows we use only a training set for the (vanilla) training procedure. See more [here](https://scikit-learn.org/stable/modules/generated/sklearn.linear_model.LogisticRegression.html)."
   ]
  },
  {
   "cell_type": "markdown",
   "metadata": {},
   "source": [
    "#### 2.1 Split data into train/test splits\n",
    "First,  let's generate the data splits we are going to use for fitting and evaluating our models."
   ]
  },
  {
   "cell_type": "code",
   "execution_count": 24,
   "metadata": {},
   "outputs": [
    {
     "name": "stdout",
     "output_type": "stream",
     "text": [
      "Train data:  (156532, 96)\n",
      "Test data:  (39133, 96)\n"
     ]
    }
   ],
   "source": [
    "# Generate data splits\n",
    "train_data, test_data= ACSProblem.generate_splits(df_trans, val_split=False)\n",
    "\n",
    "# Perform column wise partition for each split\n",
    "X_train, sens_train, y_train= ACSProblem.columnwise_partition(train_data)\n",
    "X_test, sens_test, y_test= ACSProblem.columnwise_partition(test_data)"
   ]
  },
  {
   "cell_type": "markdown",
   "metadata": {},
   "source": [
    "#### 2.2 Pick a baseline model\n",
    "Next, we pick some simple baseline models that we will use as reference points to evaluate whether the developed model is truly learning patterns and performs better than a random or naive approach. We will use the following baselines:\n",
    "\n",
    "* *Uniformly Random Guess*: Predict the targets with equal probability.\n",
    "* *Prior Random Guess*: Predict 0 or 1 proportional to the prior probability in the dataset.\n",
    "* *Majority Class*: Predict only the the majority/most frequent class, i.e., mode (for our example is class 1)."
   ]
  },
  {
   "cell_type": "code",
   "execution_count": 25,
   "metadata": {},
   "outputs": [
    {
     "name": "stdout",
     "output_type": "stream",
     "text": [
      "Created uniform classifier!\n",
      "Created most frequent/mode classifier!\n",
      "Created prior classifier!\n"
     ]
    }
   ],
   "source": [
    "from utils import models\n",
    "\n",
    "# Develop the baselines\n",
    "uniform_clf, mode_clf, prior_clf = models.build_baselines(X_train, y_train)"
   ]
  },
  {
   "cell_type": "markdown",
   "metadata": {},
   "source": [
    "#### 2.3 Pick and train an initial model\n",
    "\n",
    "Let's select logistic regression as our classifier. You can experiment with other models (e.g. an MLP) at a later time."
   ]
  },
  {
   "cell_type": "code",
   "execution_count": 26,
   "metadata": {},
   "outputs": [
    {
     "name": "stderr",
     "output_type": "stream",
     "text": [
      "c:\\Users\\qy\\anaconda3\\envs\\daps\\Lib\\site-packages\\sklearn\\linear_model\\_logistic.py:1183: FutureWarning: `penalty='none'`has been deprecated in 1.2 and will be removed in 1.4. To keep the past behaviour, set `penalty=None`.\n",
      "  warnings.warn(\n"
     ]
    },
    {
     "name": "stdout",
     "output_type": "stream",
     "text": [
      "Trained logistic regression!\n"
     ]
    }
   ],
   "source": [
    "# Develop the logistic regression model\n",
    "LR_clf=models.build_LRModel(X_train, y_train)"
   ]
  },
  {
   "cell_type": "markdown",
   "metadata": {},
   "source": [
    "### 3. Evaluate and Audit for Fairness the Baselines and the Classifier"
   ]
  },
  {
   "cell_type": "markdown",
   "metadata": {},
   "source": [
    "In what follows we evaluate the performance of the produced baselines and naive model using the following metris:\n",
    "1. Accuracy: measures correct perdictions\n",
    "2. Precision: accuracy of positive predictions\n",
    "3. Recall: measures the ability to correctly identify positive instances\n",
    "4. F1-score: provides a balance between precision and recall, especially when there is an uneven class distribution\n",
    "5. Confusion Matrix:summary of the model's predictions versus the actual classes and includes four metrics: true positive, true negative, false positive, and false negative.\n",
    "6. Demographic Parity Difference: measures the disparity in positive outcomes among sensitive groups.\n",
    "7. Equality of Odds Difference: measures the disparity in true positive and false positive rates across sensitive groups.\n",
    "</div>"
   ]
  },
  {
   "cell_type": "code",
   "execution_count": 27,
   "metadata": {},
   "outputs": [],
   "source": [
    "# Libraries for resutls reporting\n",
    "from sklearn.metrics import confusion_matrix, accuracy_score, precision_score,recall_score, f1_score,ConfusionMatrixDisplay\n",
    "from fairlearn.metrics import equalized_odds_difference, demographic_parity_difference\n",
    "\n",
    "def report_performance(model_list: list[str], X:pd.DataFrame, y:pd.DataFrame, sens:pd.DataFrame):\n",
    "    # Add your code here:\n",
    "\n",
    "    for model in model_list:\n",
    "        y_pred=model.predict(X)\n",
    "        print('-----------------')\n",
    "        print(f\"Performance of {model}\")\n",
    "        print(\"Accuracy:\", accuracy_score(y, y_pred))\n",
    "        print(\"Precision:\", precision_score(y, y_pred))\n",
    "        print(\"Recall:\", recall_score(y, y_pred))\n",
    "        print(\"F1-score:\", f1_score(y, y_pred))\n",
    "        print(\"Confusion Matrix:\", confusion_matrix(y, y_pred))\n",
    "        print(\"Demographic Parity Difference:\", demographic_parity_difference(\n",
    "        y, y_pred, sensitive_features=sens))\n",
    "        print(\"Equalized Odds Difference:\", equalized_odds_difference(\n",
    "        y, y_pred, sensitive_features=sens)\n",
    "    )\n"
   ]
  },
  {
   "cell_type": "code",
   "execution_count": 28,
   "metadata": {},
   "outputs": [
    {
     "name": "stdout",
     "output_type": "stream",
     "text": [
      "-----------------\n",
      "Performance of DummyClassifier(random_state=0, strategy='uniform')\n",
      "Accuracy: 0.5013990749495311\n",
      "Precision: 0.8813105558388578\n",
      "Recall: 0.5014252866893455\n",
      "F1-score: 0.6391841225665373\n",
      "Confusion Matrix: [[ 9355  9310]\n",
      " [68737 69130]]\n",
      "Demographic Parity Difference: 0.06953386556785995\n"
     ]
    },
    {
     "name": "stderr",
     "output_type": "stream",
     "text": [
      "c:\\Users\\qy\\anaconda3\\envs\\daps\\Lib\\site-packages\\fairlearn\\metrics\\_disaggregated_result.py:235: FutureWarning: DataFrame.applymap has been deprecated. Use DataFrame.map instead.\n",
      "  mf = mf.applymap(lambda x: x if np.isscalar(x) else np.nan)\n",
      "c:\\Users\\qy\\anaconda3\\envs\\daps\\Lib\\site-packages\\fairlearn\\metrics\\_disaggregated_result.py:235: FutureWarning: DataFrame.applymap has been deprecated. Use DataFrame.map instead.\n",
      "  mf = mf.applymap(lambda x: x if np.isscalar(x) else np.nan)\n",
      "c:\\Users\\qy\\anaconda3\\envs\\daps\\Lib\\site-packages\\fairlearn\\metrics\\_disaggregated_result.py:235: FutureWarning: DataFrame.applymap has been deprecated. Use DataFrame.map instead.\n",
      "  mf = mf.applymap(lambda x: x if np.isscalar(x) else np.nan)\n",
      "c:\\Users\\qy\\anaconda3\\envs\\daps\\Lib\\site-packages\\fairlearn\\metrics\\_disaggregated_result.py:235: FutureWarning: DataFrame.applymap has been deprecated. Use DataFrame.map instead.\n",
      "  mf = mf.applymap(lambda x: x if np.isscalar(x) else np.nan)\n",
      "c:\\Users\\qy\\anaconda3\\envs\\daps\\Lib\\site-packages\\fairlearn\\metrics\\_disaggregated_result.py:235: FutureWarning: DataFrame.applymap has been deprecated. Use DataFrame.map instead.\n",
      "  mf = mf.applymap(lambda x: x if np.isscalar(x) else np.nan)\n",
      "c:\\Users\\qy\\anaconda3\\envs\\daps\\Lib\\site-packages\\fairlearn\\metrics\\_disaggregated_result.py:235: FutureWarning: DataFrame.applymap has been deprecated. Use DataFrame.map instead.\n",
      "  mf = mf.applymap(lambda x: x if np.isscalar(x) else np.nan)\n"
     ]
    },
    {
     "name": "stdout",
     "output_type": "stream",
     "text": [
      "Equalized Odds Difference: 0.10785241248817407\n",
      "-----------------\n",
      "Performance of DummyClassifier(random_state=0, strategy='most_frequent')\n",
      "Accuracy: 0.8807592057853985\n",
      "Precision: 0.8807592057853985\n",
      "Recall: 1.0\n",
      "F1-score: 0.9365996487759809\n",
      "Confusion Matrix: [[     0  18665]\n",
      " [     0 137867]]\n"
     ]
    },
    {
     "name": "stderr",
     "output_type": "stream",
     "text": [
      "c:\\Users\\qy\\anaconda3\\envs\\daps\\Lib\\site-packages\\fairlearn\\metrics\\_disaggregated_result.py:235: FutureWarning: DataFrame.applymap has been deprecated. Use DataFrame.map instead.\n",
      "  mf = mf.applymap(lambda x: x if np.isscalar(x) else np.nan)\n",
      "c:\\Users\\qy\\anaconda3\\envs\\daps\\Lib\\site-packages\\fairlearn\\metrics\\_disaggregated_result.py:235: FutureWarning: DataFrame.applymap has been deprecated. Use DataFrame.map instead.\n",
      "  mf = mf.applymap(lambda x: x if np.isscalar(x) else np.nan)\n",
      "c:\\Users\\qy\\anaconda3\\envs\\daps\\Lib\\site-packages\\fairlearn\\metrics\\_disaggregated_result.py:235: FutureWarning: DataFrame.applymap has been deprecated. Use DataFrame.map instead.\n",
      "  mf = mf.applymap(lambda x: x if np.isscalar(x) else np.nan)\n"
     ]
    },
    {
     "name": "stdout",
     "output_type": "stream",
     "text": [
      "Demographic Parity Difference: 0.0\n"
     ]
    },
    {
     "name": "stderr",
     "output_type": "stream",
     "text": [
      "c:\\Users\\qy\\anaconda3\\envs\\daps\\Lib\\site-packages\\fairlearn\\metrics\\_disaggregated_result.py:235: FutureWarning: DataFrame.applymap has been deprecated. Use DataFrame.map instead.\n",
      "  mf = mf.applymap(lambda x: x if np.isscalar(x) else np.nan)\n",
      "c:\\Users\\qy\\anaconda3\\envs\\daps\\Lib\\site-packages\\fairlearn\\metrics\\_disaggregated_result.py:235: FutureWarning: DataFrame.applymap has been deprecated. Use DataFrame.map instead.\n",
      "  mf = mf.applymap(lambda x: x if np.isscalar(x) else np.nan)\n",
      "c:\\Users\\qy\\anaconda3\\envs\\daps\\Lib\\site-packages\\fairlearn\\metrics\\_disaggregated_result.py:235: FutureWarning: DataFrame.applymap has been deprecated. Use DataFrame.map instead.\n",
      "  mf = mf.applymap(lambda x: x if np.isscalar(x) else np.nan)\n"
     ]
    },
    {
     "name": "stdout",
     "output_type": "stream",
     "text": [
      "Equalized Odds Difference: 0.0\n",
      "-----------------\n",
      "Performance of DummyClassifier(random_state=0)\n",
      "Accuracy: 0.8807592057853985\n",
      "Precision: 0.8807592057853985\n",
      "Recall: 1.0\n",
      "F1-score: 0.9365996487759809\n",
      "Confusion Matrix: [[     0  18665]\n",
      " [     0 137867]]\n",
      "Demographic Parity Difference: 0.0\n"
     ]
    },
    {
     "name": "stderr",
     "output_type": "stream",
     "text": [
      "c:\\Users\\qy\\anaconda3\\envs\\daps\\Lib\\site-packages\\fairlearn\\metrics\\_disaggregated_result.py:235: FutureWarning: DataFrame.applymap has been deprecated. Use DataFrame.map instead.\n",
      "  mf = mf.applymap(lambda x: x if np.isscalar(x) else np.nan)\n",
      "c:\\Users\\qy\\anaconda3\\envs\\daps\\Lib\\site-packages\\fairlearn\\metrics\\_disaggregated_result.py:235: FutureWarning: DataFrame.applymap has been deprecated. Use DataFrame.map instead.\n",
      "  mf = mf.applymap(lambda x: x if np.isscalar(x) else np.nan)\n",
      "c:\\Users\\qy\\anaconda3\\envs\\daps\\Lib\\site-packages\\fairlearn\\metrics\\_disaggregated_result.py:235: FutureWarning: DataFrame.applymap has been deprecated. Use DataFrame.map instead.\n",
      "  mf = mf.applymap(lambda x: x if np.isscalar(x) else np.nan)\n",
      "c:\\Users\\qy\\anaconda3\\envs\\daps\\Lib\\site-packages\\fairlearn\\metrics\\_disaggregated_result.py:235: FutureWarning: DataFrame.applymap has been deprecated. Use DataFrame.map instead.\n",
      "  mf = mf.applymap(lambda x: x if np.isscalar(x) else np.nan)\n",
      "c:\\Users\\qy\\anaconda3\\envs\\daps\\Lib\\site-packages\\fairlearn\\metrics\\_disaggregated_result.py:235: FutureWarning: DataFrame.applymap has been deprecated. Use DataFrame.map instead.\n",
      "  mf = mf.applymap(lambda x: x if np.isscalar(x) else np.nan)\n",
      "c:\\Users\\qy\\anaconda3\\envs\\daps\\Lib\\site-packages\\fairlearn\\metrics\\_disaggregated_result.py:235: FutureWarning: DataFrame.applymap has been deprecated. Use DataFrame.map instead.\n",
      "  mf = mf.applymap(lambda x: x if np.isscalar(x) else np.nan)\n"
     ]
    },
    {
     "name": "stdout",
     "output_type": "stream",
     "text": [
      "Equalized Odds Difference: 0.0\n",
      "-----------------\n",
      "Performance of LogisticRegression(max_iter=2500, penalty='none')\n",
      "Accuracy: 0.8943985894258043\n",
      "Precision: 0.8955102253688239\n",
      "Recall: 0.9963588095773462\n",
      "F1-score: 0.9432465838082812\n",
      "Confusion Matrix: [[  2637  16028]\n",
      " [   502 137365]]\n",
      "Demographic Parity Difference: 0.35211184541465024\n"
     ]
    },
    {
     "name": "stderr",
     "output_type": "stream",
     "text": [
      "c:\\Users\\qy\\anaconda3\\envs\\daps\\Lib\\site-packages\\fairlearn\\metrics\\_disaggregated_result.py:235: FutureWarning: DataFrame.applymap has been deprecated. Use DataFrame.map instead.\n",
      "  mf = mf.applymap(lambda x: x if np.isscalar(x) else np.nan)\n",
      "c:\\Users\\qy\\anaconda3\\envs\\daps\\Lib\\site-packages\\fairlearn\\metrics\\_disaggregated_result.py:235: FutureWarning: DataFrame.applymap has been deprecated. Use DataFrame.map instead.\n",
      "  mf = mf.applymap(lambda x: x if np.isscalar(x) else np.nan)\n",
      "c:\\Users\\qy\\anaconda3\\envs\\daps\\Lib\\site-packages\\fairlearn\\metrics\\_disaggregated_result.py:235: FutureWarning: DataFrame.applymap has been deprecated. Use DataFrame.map instead.\n",
      "  mf = mf.applymap(lambda x: x if np.isscalar(x) else np.nan)\n"
     ]
    },
    {
     "name": "stdout",
     "output_type": "stream",
     "text": [
      "Equalized Odds Difference: 0.6683044315992293\n"
     ]
    },
    {
     "name": "stderr",
     "output_type": "stream",
     "text": [
      "c:\\Users\\qy\\anaconda3\\envs\\daps\\Lib\\site-packages\\fairlearn\\metrics\\_disaggregated_result.py:235: FutureWarning: DataFrame.applymap has been deprecated. Use DataFrame.map instead.\n",
      "  mf = mf.applymap(lambda x: x if np.isscalar(x) else np.nan)\n",
      "c:\\Users\\qy\\anaconda3\\envs\\daps\\Lib\\site-packages\\fairlearn\\metrics\\_disaggregated_result.py:235: FutureWarning: DataFrame.applymap has been deprecated. Use DataFrame.map instead.\n",
      "  mf = mf.applymap(lambda x: x if np.isscalar(x) else np.nan)\n",
      "c:\\Users\\qy\\anaconda3\\envs\\daps\\Lib\\site-packages\\fairlearn\\metrics\\_disaggregated_result.py:235: FutureWarning: DataFrame.applymap has been deprecated. Use DataFrame.map instead.\n",
      "  mf = mf.applymap(lambda x: x if np.isscalar(x) else np.nan)\n"
     ]
    }
   ],
   "source": [
    "#  Examine performance on training set\n",
    "report_performance([uniform_clf, mode_clf, prior_clf,LR_clf],X_train,y_train,sens_train)\n"
   ]
  },
  {
   "cell_type": "code",
   "execution_count": 29,
   "metadata": {},
   "outputs": [
    {
     "name": "stdout",
     "output_type": "stream",
     "text": [
      "-----------------\n",
      "Performance of DummyClassifier(random_state=0, strategy='uniform')\n",
      "Accuracy: 0.5000638847008918\n",
      "Precision: 0.8786610878661087\n",
      "Recall: 0.5004940998663024\n",
      "F1-score: 0.6377305384786313\n",
      "Confusion Matrix: [[ 2349  2378]\n",
      " [17186 17220]]\n",
      "Demographic Parity Difference: 0.0620705993840322\n",
      "Equalized Odds Difference: 0.7333333333333333\n",
      "-----------------\n",
      "Performance of DummyClassifier(random_state=0, strategy='most_frequent')\n",
      "Accuracy: 0.879206807553727\n"
     ]
    },
    {
     "name": "stderr",
     "output_type": "stream",
     "text": [
      "c:\\Users\\qy\\anaconda3\\envs\\daps\\Lib\\site-packages\\fairlearn\\metrics\\_disaggregated_result.py:235: FutureWarning: DataFrame.applymap has been deprecated. Use DataFrame.map instead.\n",
      "  mf = mf.applymap(lambda x: x if np.isscalar(x) else np.nan)\n",
      "c:\\Users\\qy\\anaconda3\\envs\\daps\\Lib\\site-packages\\fairlearn\\metrics\\_disaggregated_result.py:235: FutureWarning: DataFrame.applymap has been deprecated. Use DataFrame.map instead.\n",
      "  mf = mf.applymap(lambda x: x if np.isscalar(x) else np.nan)\n",
      "c:\\Users\\qy\\anaconda3\\envs\\daps\\Lib\\site-packages\\fairlearn\\metrics\\_disaggregated_result.py:235: FutureWarning: DataFrame.applymap has been deprecated. Use DataFrame.map instead.\n",
      "  mf = mf.applymap(lambda x: x if np.isscalar(x) else np.nan)\n",
      "c:\\Users\\qy\\anaconda3\\envs\\daps\\Lib\\site-packages\\fairlearn\\metrics\\_disaggregated_result.py:235: FutureWarning: DataFrame.applymap has been deprecated. Use DataFrame.map instead.\n",
      "  mf = mf.applymap(lambda x: x if np.isscalar(x) else np.nan)\n",
      "c:\\Users\\qy\\anaconda3\\envs\\daps\\Lib\\site-packages\\fairlearn\\metrics\\_disaggregated_result.py:235: FutureWarning: DataFrame.applymap has been deprecated. Use DataFrame.map instead.\n",
      "  mf = mf.applymap(lambda x: x if np.isscalar(x) else np.nan)\n",
      "c:\\Users\\qy\\anaconda3\\envs\\daps\\Lib\\site-packages\\fairlearn\\metrics\\_disaggregated_result.py:235: FutureWarning: DataFrame.applymap has been deprecated. Use DataFrame.map instead.\n",
      "  mf = mf.applymap(lambda x: x if np.isscalar(x) else np.nan)\n",
      "c:\\Users\\qy\\anaconda3\\envs\\daps\\Lib\\site-packages\\fairlearn\\metrics\\_disaggregated_result.py:235: FutureWarning: DataFrame.applymap has been deprecated. Use DataFrame.map instead.\n",
      "  mf = mf.applymap(lambda x: x if np.isscalar(x) else np.nan)\n",
      "c:\\Users\\qy\\anaconda3\\envs\\daps\\Lib\\site-packages\\fairlearn\\metrics\\_disaggregated_result.py:235: FutureWarning: DataFrame.applymap has been deprecated. Use DataFrame.map instead.\n",
      "  mf = mf.applymap(lambda x: x if np.isscalar(x) else np.nan)\n",
      "c:\\Users\\qy\\anaconda3\\envs\\daps\\Lib\\site-packages\\fairlearn\\metrics\\_disaggregated_result.py:235: FutureWarning: DataFrame.applymap has been deprecated. Use DataFrame.map instead.\n",
      "  mf = mf.applymap(lambda x: x if np.isscalar(x) else np.nan)\n"
     ]
    },
    {
     "name": "stdout",
     "output_type": "stream",
     "text": [
      "Precision: 0.879206807553727\n",
      "Recall: 1.0\n",
      "F1-score: 0.9357211819578728\n",
      "Confusion Matrix: [[    0  4727]\n",
      " [    0 34406]]\n",
      "Demographic Parity Difference: 0.0\n"
     ]
    },
    {
     "name": "stderr",
     "output_type": "stream",
     "text": [
      "c:\\Users\\qy\\anaconda3\\envs\\daps\\Lib\\site-packages\\fairlearn\\metrics\\_disaggregated_result.py:235: FutureWarning: DataFrame.applymap has been deprecated. Use DataFrame.map instead.\n",
      "  mf = mf.applymap(lambda x: x if np.isscalar(x) else np.nan)\n",
      "c:\\Users\\qy\\anaconda3\\envs\\daps\\Lib\\site-packages\\fairlearn\\metrics\\_disaggregated_result.py:235: FutureWarning: DataFrame.applymap has been deprecated. Use DataFrame.map instead.\n",
      "  mf = mf.applymap(lambda x: x if np.isscalar(x) else np.nan)\n",
      "c:\\Users\\qy\\anaconda3\\envs\\daps\\Lib\\site-packages\\fairlearn\\metrics\\_disaggregated_result.py:235: FutureWarning: DataFrame.applymap has been deprecated. Use DataFrame.map instead.\n",
      "  mf = mf.applymap(lambda x: x if np.isscalar(x) else np.nan)\n",
      "c:\\Users\\qy\\anaconda3\\envs\\daps\\Lib\\site-packages\\fairlearn\\metrics\\_disaggregated_result.py:235: FutureWarning: DataFrame.applymap has been deprecated. Use DataFrame.map instead.\n",
      "  mf = mf.applymap(lambda x: x if np.isscalar(x) else np.nan)\n",
      "c:\\Users\\qy\\anaconda3\\envs\\daps\\Lib\\site-packages\\fairlearn\\metrics\\_disaggregated_result.py:235: FutureWarning: DataFrame.applymap has been deprecated. Use DataFrame.map instead.\n",
      "  mf = mf.applymap(lambda x: x if np.isscalar(x) else np.nan)\n",
      "c:\\Users\\qy\\anaconda3\\envs\\daps\\Lib\\site-packages\\fairlearn\\metrics\\_disaggregated_result.py:235: FutureWarning: DataFrame.applymap has been deprecated. Use DataFrame.map instead.\n",
      "  mf = mf.applymap(lambda x: x if np.isscalar(x) else np.nan)\n"
     ]
    },
    {
     "name": "stdout",
     "output_type": "stream",
     "text": [
      "Equalized Odds Difference: 1.0\n",
      "-----------------\n",
      "Performance of DummyClassifier(random_state=0)\n",
      "Accuracy: 0.879206807553727\n",
      "Precision: 0.879206807553727\n",
      "Recall: 1.0\n",
      "F1-score: 0.9357211819578728\n",
      "Confusion Matrix: [[    0  4727]\n",
      " [    0 34406]]\n",
      "Demographic Parity Difference: 0.0\n"
     ]
    },
    {
     "name": "stderr",
     "output_type": "stream",
     "text": [
      "c:\\Users\\qy\\anaconda3\\envs\\daps\\Lib\\site-packages\\fairlearn\\metrics\\_disaggregated_result.py:235: FutureWarning: DataFrame.applymap has been deprecated. Use DataFrame.map instead.\n",
      "  mf = mf.applymap(lambda x: x if np.isscalar(x) else np.nan)\n",
      "c:\\Users\\qy\\anaconda3\\envs\\daps\\Lib\\site-packages\\fairlearn\\metrics\\_disaggregated_result.py:235: FutureWarning: DataFrame.applymap has been deprecated. Use DataFrame.map instead.\n",
      "  mf = mf.applymap(lambda x: x if np.isscalar(x) else np.nan)\n",
      "c:\\Users\\qy\\anaconda3\\envs\\daps\\Lib\\site-packages\\fairlearn\\metrics\\_disaggregated_result.py:235: FutureWarning: DataFrame.applymap has been deprecated. Use DataFrame.map instead.\n",
      "  mf = mf.applymap(lambda x: x if np.isscalar(x) else np.nan)\n",
      "c:\\Users\\qy\\anaconda3\\envs\\daps\\Lib\\site-packages\\fairlearn\\metrics\\_disaggregated_result.py:235: FutureWarning: DataFrame.applymap has been deprecated. Use DataFrame.map instead.\n",
      "  mf = mf.applymap(lambda x: x if np.isscalar(x) else np.nan)\n",
      "c:\\Users\\qy\\anaconda3\\envs\\daps\\Lib\\site-packages\\fairlearn\\metrics\\_disaggregated_result.py:235: FutureWarning: DataFrame.applymap has been deprecated. Use DataFrame.map instead.\n",
      "  mf = mf.applymap(lambda x: x if np.isscalar(x) else np.nan)\n",
      "c:\\Users\\qy\\anaconda3\\envs\\daps\\Lib\\site-packages\\fairlearn\\metrics\\_disaggregated_result.py:235: FutureWarning: DataFrame.applymap has been deprecated. Use DataFrame.map instead.\n",
      "  mf = mf.applymap(lambda x: x if np.isscalar(x) else np.nan)\n"
     ]
    },
    {
     "name": "stdout",
     "output_type": "stream",
     "text": [
      "Equalized Odds Difference: 1.0\n",
      "-----------------\n",
      "Performance of LogisticRegression(max_iter=2500, penalty='none')\n",
      "Accuracy: 0.8925970408606547\n",
      "Precision: 0.8939555996139097\n",
      "Recall: 0.9959890716735453\n",
      "F1-score: 0.942218067336642\n",
      "Confusion Matrix: [[  662  4065]\n",
      " [  138 34268]]\n",
      "Demographic Parity Difference: 0.061855670103092786\n",
      "Equalized Odds Difference: 0.913322632423756\n"
     ]
    },
    {
     "name": "stderr",
     "output_type": "stream",
     "text": [
      "c:\\Users\\qy\\anaconda3\\envs\\daps\\Lib\\site-packages\\fairlearn\\metrics\\_disaggregated_result.py:235: FutureWarning: DataFrame.applymap has been deprecated. Use DataFrame.map instead.\n",
      "  mf = mf.applymap(lambda x: x if np.isscalar(x) else np.nan)\n",
      "c:\\Users\\qy\\anaconda3\\envs\\daps\\Lib\\site-packages\\fairlearn\\metrics\\_disaggregated_result.py:235: FutureWarning: DataFrame.applymap has been deprecated. Use DataFrame.map instead.\n",
      "  mf = mf.applymap(lambda x: x if np.isscalar(x) else np.nan)\n",
      "c:\\Users\\qy\\anaconda3\\envs\\daps\\Lib\\site-packages\\fairlearn\\metrics\\_disaggregated_result.py:235: FutureWarning: DataFrame.applymap has been deprecated. Use DataFrame.map instead.\n",
      "  mf = mf.applymap(lambda x: x if np.isscalar(x) else np.nan)\n"
     ]
    }
   ],
   "source": [
    "#  Examine performance on test set\n",
    "report_performance([uniform_clf, mode_clf, prior_clf,LR_clf],X_test,y_test,sens_test)"
   ]
  },
  {
   "cell_type": "markdown",
   "metadata": {},
   "source": [
    "<div class=\"alert alert-block alert-danger\">\n",
    "<b> Q: What insights can you derive from the reported metrics for all models? </b>\n",
    "</div>"
   ]
  },
  {
   "cell_type": "code",
   "execution_count": null,
   "metadata": {},
   "outputs": [],
   "source": [
    "# Add your response here:"
   ]
  },
  {
   "cell_type": "markdown",
   "metadata": {},
   "source": [
    "### 4. Postprocessing Techniques for Fairness\n",
    "\n",
    "\n",
    "Since we audited the (naive/initial) logistic regression model for fairness and we noticed that it does not satisfy Equalizes Odds, we are going to enforce this fairness metric as a postprocessing technique. \n",
    "\n",
    "To do so, we are going to use `fairlearn` library's [`ThresholdOptimzer`](https://fairlearn.org/v0.9/api_reference/generated/fairlearn.postprocessing.ThresholdOptimizer.html?highlight=thresholdoptimizer#fairlearn.postprocessing.ThresholdOptimizer) to implement Equality of Opportunity. \n",
    "\n",
    "\n",
    "You can find the original paper introducing Equalized Odds [here](https://proceedings.neurips.cc/paper/2016/file/9d2682367c3935defcb1f9e247a97c0d-Paper.pdf)."
   ]
  },
  {
   "cell_type": "code",
   "execution_count": 30,
   "metadata": {},
   "outputs": [
    {
     "name": "stderr",
     "output_type": "stream",
     "text": [
      "c:\\Users\\qy\\anaconda3\\envs\\daps\\Lib\\site-packages\\sklearn\\linear_model\\_logistic.py:1183: FutureWarning: `penalty='none'`has been deprecated in 1.2 and will be removed in 1.4. To keep the past behaviour, set `penalty=None`.\n",
      "  warnings.warn(\n"
     ]
    }
   ],
   "source": [
    "from fairlearn.postprocessing import ThresholdOptimizer\n",
    "\n",
    "def build_EOddFairModel(cls,  X:pd.DataFrame, y:pd.DataFrame, sens:pd.DataFrame):\n",
    "    # Set up ThresholdOptimizer\n",
    "    eo_model = ThresholdOptimizer(\n",
    "        estimator=cls,\n",
    "        constraints=\"equalized_odds\", # Optimize FPR and FNR simultaneously\n",
    "        objective=\"balanced_accuracy_score\", # accuracy_score\n",
    "        grid_size=1000,\n",
    "        flip=False,\n",
    "        prefit=False,\n",
    "        predict_method=\"predict_proba\",\n",
    "    )\n",
    "    \n",
    "    # Adjust the results that the classifier would produce by letting ThresholdOptimizer know what the sensitive features are\n",
    "    eo_model.fit(X, y, sensitive_features=sens)\n",
    "\n",
    "    return eo_model\n",
    "\n",
    "# Postprocess the trained classifier to satisfy Equalized Odds\n",
    "eoFair_clf= build_EOddFairModel(LR_clf,X_train, y_train, sens_train)"
   ]
  },
  {
   "cell_type": "code",
   "execution_count": 31,
   "metadata": {},
   "outputs": [],
   "source": [
    "# Examine EO-fair classifier on train data\n",
    "y_train_eo= eoFair_clf.predict(\n",
    "    X_train, sensitive_features=sens_train\n",
    ")\n",
    "# Examine EO-fair classifier on test data\n",
    "y_test_eo= eoFair_clf.predict(\n",
    "    X_test, sensitive_features=sens_test\n",
    ")"
   ]
  },
  {
   "cell_type": "code",
   "execution_count": 32,
   "metadata": {},
   "outputs": [
    {
     "name": "stdout",
     "output_type": "stream",
     "text": [
      "-----------------\n",
      "Performance of DummyClassifier(random_state=0, strategy='uniform')\n",
      "Accuracy: 0.5000638847008918\n",
      "Precision: 0.8786610878661087\n",
      "Recall: 0.5004940998663024\n",
      "F1-score: 0.6377305384786313\n",
      "Confusion Matrix: [[ 2349  2378]\n",
      " [17186 17220]]\n",
      "Demographic Parity Difference: 0.0620705993840322\n",
      "Equalized Odds Difference: 0.7333333333333333\n",
      "-----------------\n",
      "Performance of DummyClassifier(random_state=0, strategy='most_frequent')\n"
     ]
    },
    {
     "name": "stderr",
     "output_type": "stream",
     "text": [
      "c:\\Users\\qy\\anaconda3\\envs\\daps\\Lib\\site-packages\\fairlearn\\metrics\\_disaggregated_result.py:235: FutureWarning: DataFrame.applymap has been deprecated. Use DataFrame.map instead.\n",
      "  mf = mf.applymap(lambda x: x if np.isscalar(x) else np.nan)\n",
      "c:\\Users\\qy\\anaconda3\\envs\\daps\\Lib\\site-packages\\fairlearn\\metrics\\_disaggregated_result.py:235: FutureWarning: DataFrame.applymap has been deprecated. Use DataFrame.map instead.\n",
      "  mf = mf.applymap(lambda x: x if np.isscalar(x) else np.nan)\n",
      "c:\\Users\\qy\\anaconda3\\envs\\daps\\Lib\\site-packages\\fairlearn\\metrics\\_disaggregated_result.py:235: FutureWarning: DataFrame.applymap has been deprecated. Use DataFrame.map instead.\n",
      "  mf = mf.applymap(lambda x: x if np.isscalar(x) else np.nan)\n",
      "c:\\Users\\qy\\anaconda3\\envs\\daps\\Lib\\site-packages\\fairlearn\\metrics\\_disaggregated_result.py:235: FutureWarning: DataFrame.applymap has been deprecated. Use DataFrame.map instead.\n",
      "  mf = mf.applymap(lambda x: x if np.isscalar(x) else np.nan)\n",
      "c:\\Users\\qy\\anaconda3\\envs\\daps\\Lib\\site-packages\\fairlearn\\metrics\\_disaggregated_result.py:235: FutureWarning: DataFrame.applymap has been deprecated. Use DataFrame.map instead.\n",
      "  mf = mf.applymap(lambda x: x if np.isscalar(x) else np.nan)\n",
      "c:\\Users\\qy\\anaconda3\\envs\\daps\\Lib\\site-packages\\fairlearn\\metrics\\_disaggregated_result.py:235: FutureWarning: DataFrame.applymap has been deprecated. Use DataFrame.map instead.\n",
      "  mf = mf.applymap(lambda x: x if np.isscalar(x) else np.nan)\n",
      "c:\\Users\\qy\\anaconda3\\envs\\daps\\Lib\\site-packages\\fairlearn\\metrics\\_disaggregated_result.py:235: FutureWarning: DataFrame.applymap has been deprecated. Use DataFrame.map instead.\n",
      "  mf = mf.applymap(lambda x: x if np.isscalar(x) else np.nan)\n",
      "c:\\Users\\qy\\anaconda3\\envs\\daps\\Lib\\site-packages\\fairlearn\\metrics\\_disaggregated_result.py:235: FutureWarning: DataFrame.applymap has been deprecated. Use DataFrame.map instead.\n",
      "  mf = mf.applymap(lambda x: x if np.isscalar(x) else np.nan)\n",
      "c:\\Users\\qy\\anaconda3\\envs\\daps\\Lib\\site-packages\\fairlearn\\metrics\\_disaggregated_result.py:235: FutureWarning: DataFrame.applymap has been deprecated. Use DataFrame.map instead.\n",
      "  mf = mf.applymap(lambda x: x if np.isscalar(x) else np.nan)\n"
     ]
    },
    {
     "name": "stdout",
     "output_type": "stream",
     "text": [
      "Accuracy: 0.879206807553727\n",
      "Precision: 0.879206807553727\n",
      "Recall: 1.0\n",
      "F1-score: 0.9357211819578728\n",
      "Confusion Matrix: [[    0  4727]\n",
      " [    0 34406]]\n",
      "Demographic Parity Difference: 0.0\n"
     ]
    },
    {
     "name": "stderr",
     "output_type": "stream",
     "text": [
      "c:\\Users\\qy\\anaconda3\\envs\\daps\\Lib\\site-packages\\fairlearn\\metrics\\_disaggregated_result.py:235: FutureWarning: DataFrame.applymap has been deprecated. Use DataFrame.map instead.\n",
      "  mf = mf.applymap(lambda x: x if np.isscalar(x) else np.nan)\n",
      "c:\\Users\\qy\\anaconda3\\envs\\daps\\Lib\\site-packages\\fairlearn\\metrics\\_disaggregated_result.py:235: FutureWarning: DataFrame.applymap has been deprecated. Use DataFrame.map instead.\n",
      "  mf = mf.applymap(lambda x: x if np.isscalar(x) else np.nan)\n",
      "c:\\Users\\qy\\anaconda3\\envs\\daps\\Lib\\site-packages\\fairlearn\\metrics\\_disaggregated_result.py:235: FutureWarning: DataFrame.applymap has been deprecated. Use DataFrame.map instead.\n",
      "  mf = mf.applymap(lambda x: x if np.isscalar(x) else np.nan)\n",
      "c:\\Users\\qy\\anaconda3\\envs\\daps\\Lib\\site-packages\\fairlearn\\metrics\\_disaggregated_result.py:235: FutureWarning: DataFrame.applymap has been deprecated. Use DataFrame.map instead.\n",
      "  mf = mf.applymap(lambda x: x if np.isscalar(x) else np.nan)\n",
      "c:\\Users\\qy\\anaconda3\\envs\\daps\\Lib\\site-packages\\fairlearn\\metrics\\_disaggregated_result.py:235: FutureWarning: DataFrame.applymap has been deprecated. Use DataFrame.map instead.\n",
      "  mf = mf.applymap(lambda x: x if np.isscalar(x) else np.nan)\n",
      "c:\\Users\\qy\\anaconda3\\envs\\daps\\Lib\\site-packages\\fairlearn\\metrics\\_disaggregated_result.py:235: FutureWarning: DataFrame.applymap has been deprecated. Use DataFrame.map instead.\n",
      "  mf = mf.applymap(lambda x: x if np.isscalar(x) else np.nan)\n"
     ]
    },
    {
     "name": "stdout",
     "output_type": "stream",
     "text": [
      "Equalized Odds Difference: 1.0\n",
      "-----------------\n",
      "Performance of DummyClassifier(random_state=0)\n",
      "Accuracy: 0.879206807553727\n",
      "Precision: 0.879206807553727\n",
      "Recall: 1.0\n",
      "F1-score: 0.9357211819578728\n",
      "Confusion Matrix: [[    0  4727]\n",
      " [    0 34406]]\n",
      "Demographic Parity Difference: 0.0\n"
     ]
    },
    {
     "name": "stderr",
     "output_type": "stream",
     "text": [
      "c:\\Users\\qy\\anaconda3\\envs\\daps\\Lib\\site-packages\\fairlearn\\metrics\\_disaggregated_result.py:235: FutureWarning: DataFrame.applymap has been deprecated. Use DataFrame.map instead.\n",
      "  mf = mf.applymap(lambda x: x if np.isscalar(x) else np.nan)\n",
      "c:\\Users\\qy\\anaconda3\\envs\\daps\\Lib\\site-packages\\fairlearn\\metrics\\_disaggregated_result.py:235: FutureWarning: DataFrame.applymap has been deprecated. Use DataFrame.map instead.\n",
      "  mf = mf.applymap(lambda x: x if np.isscalar(x) else np.nan)\n",
      "c:\\Users\\qy\\anaconda3\\envs\\daps\\Lib\\site-packages\\fairlearn\\metrics\\_disaggregated_result.py:235: FutureWarning: DataFrame.applymap has been deprecated. Use DataFrame.map instead.\n",
      "  mf = mf.applymap(lambda x: x if np.isscalar(x) else np.nan)\n",
      "c:\\Users\\qy\\anaconda3\\envs\\daps\\Lib\\site-packages\\fairlearn\\metrics\\_disaggregated_result.py:235: FutureWarning: DataFrame.applymap has been deprecated. Use DataFrame.map instead.\n",
      "  mf = mf.applymap(lambda x: x if np.isscalar(x) else np.nan)\n",
      "c:\\Users\\qy\\anaconda3\\envs\\daps\\Lib\\site-packages\\fairlearn\\metrics\\_disaggregated_result.py:235: FutureWarning: DataFrame.applymap has been deprecated. Use DataFrame.map instead.\n",
      "  mf = mf.applymap(lambda x: x if np.isscalar(x) else np.nan)\n",
      "c:\\Users\\qy\\anaconda3\\envs\\daps\\Lib\\site-packages\\fairlearn\\metrics\\_disaggregated_result.py:235: FutureWarning: DataFrame.applymap has been deprecated. Use DataFrame.map instead.\n",
      "  mf = mf.applymap(lambda x: x if np.isscalar(x) else np.nan)\n"
     ]
    },
    {
     "name": "stdout",
     "output_type": "stream",
     "text": [
      "Equalized Odds Difference: 1.0\n",
      "-----------------\n",
      "Performance of LogisticRegression(max_iter=2500, penalty='none')\n",
      "Accuracy: 0.8925970408606547\n",
      "Precision: 0.8939555996139097\n",
      "Recall: 0.9959890716735453\n",
      "F1-score: 0.942218067336642\n",
      "Confusion Matrix: [[  662  4065]\n",
      " [  138 34268]]\n",
      "Demographic Parity Difference: 0.061855670103092786\n",
      "Equalized Odds Difference: 0.913322632423756\n"
     ]
    },
    {
     "name": "stderr",
     "output_type": "stream",
     "text": [
      "c:\\Users\\qy\\anaconda3\\envs\\daps\\Lib\\site-packages\\fairlearn\\metrics\\_disaggregated_result.py:235: FutureWarning: DataFrame.applymap has been deprecated. Use DataFrame.map instead.\n",
      "  mf = mf.applymap(lambda x: x if np.isscalar(x) else np.nan)\n",
      "c:\\Users\\qy\\anaconda3\\envs\\daps\\Lib\\site-packages\\fairlearn\\metrics\\_disaggregated_result.py:235: FutureWarning: DataFrame.applymap has been deprecated. Use DataFrame.map instead.\n",
      "  mf = mf.applymap(lambda x: x if np.isscalar(x) else np.nan)\n",
      "c:\\Users\\qy\\anaconda3\\envs\\daps\\Lib\\site-packages\\fairlearn\\metrics\\_disaggregated_result.py:235: FutureWarning: DataFrame.applymap has been deprecated. Use DataFrame.map instead.\n",
      "  mf = mf.applymap(lambda x: x if np.isscalar(x) else np.nan)\n"
     ]
    }
   ],
   "source": [
    "#  Print again report on test set for the previous models\n",
    "report_performance([uniform_clf, mode_clf, prior_clf,LR_clf],X_test,y_test,sens_test)"
   ]
  },
  {
   "cell_type": "code",
   "execution_count": 33,
   "metadata": {},
   "outputs": [
    {
     "name": "stdout",
     "output_type": "stream",
     "text": [
      "-----------------\n",
      "Accuracy: 0.7705772621572585\n",
      "Precision: 0.9079969193248187\n",
      "Recall: 0.8223856304133\n",
      "F1-score: 0.8630734504636408\n",
      "Confusion Matrix: [[ 1860  2867]\n",
      " [ 6111 28295]]\n"
     ]
    },
    {
     "name": "stderr",
     "output_type": "stream",
     "text": [
      "c:\\Users\\qy\\anaconda3\\envs\\daps\\Lib\\site-packages\\fairlearn\\metrics\\_disaggregated_result.py:235: FutureWarning: DataFrame.applymap has been deprecated. Use DataFrame.map instead.\n",
      "  mf = mf.applymap(lambda x: x if np.isscalar(x) else np.nan)\n",
      "c:\\Users\\qy\\anaconda3\\envs\\daps\\Lib\\site-packages\\fairlearn\\metrics\\_disaggregated_result.py:235: FutureWarning: DataFrame.applymap has been deprecated. Use DataFrame.map instead.\n",
      "  mf = mf.applymap(lambda x: x if np.isscalar(x) else np.nan)\n",
      "c:\\Users\\qy\\anaconda3\\envs\\daps\\Lib\\site-packages\\fairlearn\\metrics\\_disaggregated_result.py:235: FutureWarning: DataFrame.applymap has been deprecated. Use DataFrame.map instead.\n",
      "  mf = mf.applymap(lambda x: x if np.isscalar(x) else np.nan)\n"
     ]
    },
    {
     "name": "stdout",
     "output_type": "stream",
     "text": [
      "Demographic Parity Difference: 0.30597014925373134\n",
      "Equalized Odds Difference: 0.8666666666666667\n"
     ]
    },
    {
     "name": "stderr",
     "output_type": "stream",
     "text": [
      "c:\\Users\\qy\\anaconda3\\envs\\daps\\Lib\\site-packages\\fairlearn\\metrics\\_disaggregated_result.py:235: FutureWarning: DataFrame.applymap has been deprecated. Use DataFrame.map instead.\n",
      "  mf = mf.applymap(lambda x: x if np.isscalar(x) else np.nan)\n",
      "c:\\Users\\qy\\anaconda3\\envs\\daps\\Lib\\site-packages\\fairlearn\\metrics\\_disaggregated_result.py:235: FutureWarning: DataFrame.applymap has been deprecated. Use DataFrame.map instead.\n",
      "  mf = mf.applymap(lambda x: x if np.isscalar(x) else np.nan)\n",
      "c:\\Users\\qy\\anaconda3\\envs\\daps\\Lib\\site-packages\\fairlearn\\metrics\\_disaggregated_result.py:235: FutureWarning: DataFrame.applymap has been deprecated. Use DataFrame.map instead.\n",
      "  mf = mf.applymap(lambda x: x if np.isscalar(x) else np.nan)\n"
     ]
    }
   ],
   "source": [
    "#  Print report for this EO-fair classifier\n",
    "\n",
    "print('-----------------')\n",
    "print(\"Accuracy:\", accuracy_score(y_test, y_test_eo))\n",
    "print(\"Precision:\", precision_score(y_test, y_test_eo))\n",
    "print(\"Recall:\", recall_score(y_test, y_test_eo))\n",
    "print(\"F1-score:\", f1_score(y_test, y_test_eo))\n",
    "print(\"Confusion Matrix:\", confusion_matrix(y_test, y_test_eo))\n",
    "print(\"Demographic Parity Difference:\", demographic_parity_difference(y_test, y_test_eo, sensitive_features=sens_test))\n",
    "print(\"Equalized Odds Difference:\", equalized_odds_difference(\n",
    "    y_test, y_test_eo, sensitive_features=sens_test))"
   ]
  },
  {
   "cell_type": "code",
   "execution_count": 34,
   "metadata": {},
   "outputs": [
    {
     "data": {
      "text/plain": [
       "Text(0.5, 1.0, 'EO trained LR')"
      ]
     },
     "execution_count": 34,
     "metadata": {},
     "output_type": "execute_result"
    },
    {
     "data": {
      "image/png": "[encoded data removed]",
      "text/plain": [
       "<Figure size 1500x1000 with 4 Axes>"
      ]
     },
     "metadata": {},
     "output_type": "display_data"
    }
   ],
   "source": [
    "# Plot confusion matrices for the EO-fair and initial/naive classifiers \n",
    "\n",
    "fig, ax = plt.subplots(nrows=1, ncols=2, figsize=(15,10))\n",
    "\n",
    "ConfusionMatrixDisplay(\n",
    "    confusion_matrix=confusion_matrix(y_test, LR_clf.predict(X_test)), \n",
    "    display_labels=[False, True]).plot(ax=ax[0],cmap=plt.cm.YlGnBu)\n",
    "ax[0].set_title(\"Naive LR\")\n",
    "\n",
    "ConfusionMatrixDisplay(\n",
    "    confusion_matrix=confusion_matrix(y_test, y_test_eo), \n",
    "    display_labels=[False, True],).plot(ax=ax[1],cmap=plt.cm.YlGnBu)\n",
    "ax[1].set_title(\"EO trained LR\") \n"
   ]
  },
  {
   "cell_type": "markdown",
   "metadata": {},
   "source": [
    "#### Pick a dataset and upload it on [Aequitas](http://aequitas.dssg.io/) to generate a bias report!!"
   ]
  }
 ],
 "metadata": {
  "kernelspec": {
   "display_name": "daps",
   "language": "python",
   "name": "python3"
  },
  "language_info": {
   "codemirror_mode": {
    "name": "ipython",
    "version": 3
   },
   "file_extension": ".py",
   "mimetype": "text/x-python",
   "name": "python",
   "nbconvert_exporter": "python",
   "pygments_lexer": "ipython3",
   "version": "3.11.5"
  }
 },
 "nbformat": 4,
 "nbformat_minor": 2
}
